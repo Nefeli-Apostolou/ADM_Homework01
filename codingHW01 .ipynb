{
 "cells": [
  {
   "cell_type": "markdown",
   "id": "31d9fc0f-29c4-4e50-9c83-a9515fe2941c",
   "metadata": {},
   "source": [
    "# INTRODUCTION"
   ]
  },
  {
   "cell_type": "markdown",
   "id": "4571870a-daa1-4062-b94f-dbc8862ac434",
   "metadata": {},
   "source": [
    "## Say \"Hello, World!\" With Python"
   ]
  },
  {
   "cell_type": "code",
   "execution_count": 1,
   "id": "fc15fe54-a5e1-4f2b-88a9-32356e0b286b",
   "metadata": {},
   "outputs": [
    {
     "name": "stdout",
     "output_type": "stream",
     "text": [
      "Hello, World!\n"
     ]
    }
   ],
   "source": [
    "if __name__ == '__main__':\n",
    "    print(\"Hello, World!\")"
   ]
  },
  {
   "cell_type": "markdown",
   "id": "f97c8a2b-4744-4217-818e-49fcaf60868c",
   "metadata": {},
   "source": [
    "## Python If-Else"
   ]
  },
  {
   "cell_type": "code",
   "execution_count": 7,
   "id": "d1eb180c-e789-4b3d-b3df-8bd7470e8344",
   "metadata": {},
   "outputs": [
    {
     "name": "stdin",
     "output_type": "stream",
     "text": [
      " 3\n"
     ]
    },
    {
     "name": "stdout",
     "output_type": "stream",
     "text": [
      "Weird\n"
     ]
    }
   ],
   "source": [
    "#!/bin/python3\n",
    "\n",
    "import math\n",
    "import os\n",
    "import random\n",
    "import re\n",
    "import sys\n",
    "\n",
    "\n",
    "\n",
    "if __name__ == '__main__':\n",
    "    n = int(input().strip())\n",
    "if n % 2 != 0:\n",
    "    print(\"Weird\")\n",
    "elif n % 2 == 0:\n",
    "    if 2 <= n <= 5:\n",
    "        print(\"Not Weird\")\n",
    "    elif 6 <= n <= 20:\n",
    "        print(\"Weird\")\n",
    "    elif n > 20:\n",
    "        print(\"Not Weird\")"
   ]
  },
  {
   "cell_type": "markdown",
   "id": "e6ab8c30-3337-40ae-9e0e-0e506a01ed92",
   "metadata": {},
   "source": [
    "## Arithmetic Operators"
   ]
  },
  {
   "cell_type": "code",
   "execution_count": 14,
   "id": "9c5dace6-619c-4b8c-9d56-022a00a8374b",
   "metadata": {},
   "outputs": [
    {
     "name": "stdin",
     "output_type": "stream",
     "text": [
      " 3\n",
      " 2\n"
     ]
    },
    {
     "name": "stdout",
     "output_type": "stream",
     "text": [
      "5\n",
      "1\n",
      "6\n"
     ]
    }
   ],
   "source": [
    "if __name__ == '__main__':\n",
    "    a = int(input())\n",
    "    b = int(input())\n",
    "    print(a + b)\n",
    "    print(a - b)\n",
    "    print(a * b)"
   ]
  },
  {
   "cell_type": "markdown",
   "id": "913b2113-b859-417a-99ce-4a6d72c5ed9a",
   "metadata": {},
   "source": [
    "## Python: Division"
   ]
  },
  {
   "cell_type": "code",
   "execution_count": 16,
   "id": "1ea580b5-cad1-4416-a791-d793fb9a4528",
   "metadata": {},
   "outputs": [
    {
     "name": "stdin",
     "output_type": "stream",
     "text": [
      " 4\n",
      " 3\n"
     ]
    },
    {
     "name": "stdout",
     "output_type": "stream",
     "text": [
      "1\n",
      "1.3333333333333333\n"
     ]
    }
   ],
   "source": [
    "if __name__ == '__main__':\n",
    "    a = int(input())\n",
    "    b = int(input())\n",
    "    print(a // b)\n",
    "    print(a / b)"
   ]
  },
  {
   "cell_type": "markdown",
   "id": "b2c78632-0422-4df5-87ce-b382aae081c6",
   "metadata": {},
   "source": [
    "## Loops"
   ]
  },
  {
   "cell_type": "code",
   "execution_count": 20,
   "id": "837a57c7-4ca6-478c-87f7-960f73d56706",
   "metadata": {},
   "outputs": [
    {
     "name": "stdin",
     "output_type": "stream",
     "text": [
      " 5\n"
     ]
    },
    {
     "name": "stdout",
     "output_type": "stream",
     "text": [
      "0\n",
      "1\n",
      "4\n",
      "9\n",
      "16\n"
     ]
    }
   ],
   "source": [
    "if __name__ == '__main__':\n",
    "    n = int(input())\n",
    "    \n",
    "for i in range(0,n):\n",
    "    print (i ** 2)"
   ]
  },
  {
   "cell_type": "markdown",
   "id": "128dcd49-6bd5-41a1-a203-1d387a0eec8b",
   "metadata": {},
   "source": [
    "## Write a function"
   ]
  },
  {
   "cell_type": "code",
   "execution_count": 22,
   "id": "9dbb5aeb-e3b2-456e-90a2-d9da9762e8be",
   "metadata": {},
   "outputs": [],
   "source": [
    "def is_leap(year):\n",
    "    leap = False\n",
    "    if (year % 4 == 0 and year % 100 != 0) or (year % 100 == 0 and year % 400 == 0):\n",
    "        leap = True\n",
    "        \n",
    "    return leap"
   ]
  },
  {
   "cell_type": "markdown",
   "id": "d3a8297f-3fa6-42cd-8b9a-30c4d9237744",
   "metadata": {},
   "source": [
    "## Print Function"
   ]
  },
  {
   "cell_type": "code",
   "execution_count": 24,
   "id": "356b8a38-2a08-46ca-88c3-366f82029cd2",
   "metadata": {},
   "outputs": [
    {
     "name": "stdin",
     "output_type": "stream",
     "text": [
      " 3\n"
     ]
    },
    {
     "name": "stdout",
     "output_type": "stream",
     "text": [
      "123"
     ]
    }
   ],
   "source": [
    "if __name__ == '__main__':\n",
    "    n = int(input())\n",
    "    for i in range(n): print(i+1, end='')"
   ]
  },
  {
   "cell_type": "markdown",
   "id": "d75870a3-3a2f-4e3f-814f-6b3538d5ce74",
   "metadata": {},
   "source": [
    "# Basic Data Types"
   ]
  },
  {
   "cell_type": "markdown",
   "id": "fa1bda04-4ae2-4858-9902-cbba93a21bd0",
   "metadata": {},
   "source": [
    "## List Comprehensions"
   ]
  },
  {
   "cell_type": "code",
   "execution_count": 28,
   "id": "5f40abed-291a-4ea1-a045-55fff8622964",
   "metadata": {},
   "outputs": [
    {
     "name": "stdin",
     "output_type": "stream",
     "text": [
      " 1\n",
      " 1\n",
      " 1\n",
      " 2\n"
     ]
    },
    {
     "name": "stdout",
     "output_type": "stream",
     "text": [
      "[[0, 0, 0], [0, 0, 1], [0, 1, 0], [1, 0, 0], [1, 1, 1]]\n"
     ]
    }
   ],
   "source": [
    "if __name__ == '__main__':\n",
    "    x = int(input())\n",
    "    y = int(input())\n",
    "    z = int(input())\n",
    "    n = int(input())\n",
    "coordinates = [[i,j,k] for i in range(x+1) for j in range(y +1) for k in range(z+1) if i+j+k != n]\n",
    "\n",
    "                \n",
    "print(coordinates)"
   ]
  },
  {
   "cell_type": "markdown",
   "id": "1402c5b4-f221-4b10-bcdf-02925b3266c5",
   "metadata": {},
   "source": [
    "## Find the Runner-Up Score!"
   ]
  },
  {
   "cell_type": "code",
   "execution_count": 36,
   "id": "88d0ec24-69c5-47ef-81b4-0a562e6067f5",
   "metadata": {},
   "outputs": [
    {
     "name": "stdin",
     "output_type": "stream",
     "text": [
      " 5\n",
      " 2 3 6 6 5\n"
     ]
    },
    {
     "name": "stdout",
     "output_type": "stream",
     "text": [
      "5\n"
     ]
    }
   ],
   "source": [
    "if __name__ == '__main__':\n",
    "    n = int(input())\n",
    "    arr = map(int, input().split())\n",
    "    scores = list(arr)\n",
    "    for i in scores:\n",
    "        if i == n:\n",
    "            print(i)"
   ]
  },
  {
   "cell_type": "code",
   "execution_count": 38,
   "id": "d289ea9e-d5d0-40e4-93cb-f81195592a0e",
   "metadata": {},
   "outputs": [
    {
     "name": "stdin",
     "output_type": "stream",
     "text": [
      " 5\n",
      " 2 3 6 6 5\n"
     ]
    },
    {
     "name": "stdout",
     "output_type": "stream",
     "text": [
      "5\n"
     ]
    }
   ],
   "source": [
    "if __name__ == '__main__':\n",
    "    n = int(input())\n",
    "    arr = map(int, input().split())\n",
    "    scores = list(set(arr))\n",
    "    scores.sort()\n",
    "    print(scores[-2])"
   ]
  },
  {
   "cell_type": "markdown",
   "id": "10b92d0c-1cdb-4e5b-9594-f0a993637a84",
   "metadata": {},
   "source": [
    "## Nested Lists"
   ]
  },
  {
   "cell_type": "code",
   "execution_count": 44,
   "id": "cfc9d17c-73ca-4441-ac59-5de801c911c6",
   "metadata": {},
   "outputs": [
    {
     "name": "stdin",
     "output_type": "stream",
     "text": [
      " 5\n",
      " Harry\n",
      " 37.21\n",
      " Berry\n",
      " 37.21\n",
      " Tina\n",
      " 37.2\n",
      " Akriti\n",
      " 41\n",
      " Harsh\n",
      " 39\n"
     ]
    },
    {
     "name": "stdout",
     "output_type": "stream",
     "text": [
      "Berry\n",
      "Harry\n"
     ]
    },
    {
     "data": {
      "text/plain": [
       "[None, None]"
      ]
     },
     "execution_count": 44,
     "metadata": {},
     "output_type": "execute_result"
    }
   ],
   "source": [
    "if __name__ == '__main__':\n",
    "    students = []\n",
    "    for _ in range(int(input())):\n",
    "        name = input()\n",
    "        score = float(input())\n",
    "        students.append([name, score])\n",
    "only_scores = [x[1] for x in students]\n",
    "minimum_score = sorted(set(only_scores))\n",
    "students_min = sorted([y[0] for y in students if y[1]==minimum_score[1]])\n",
    "[print(i) for i in students_min]"
   ]
  },
  {
   "cell_type": "markdown",
   "id": "494bf75e-9af4-4091-9611-cbf31156292d",
   "metadata": {},
   "source": [
    "## Finding the percentage"
   ]
  },
  {
   "cell_type": "code",
   "execution_count": 46,
   "id": "4fdbdf87-d0e7-41fb-a8ab-721151569009",
   "metadata": {},
   "outputs": [
    {
     "name": "stdin",
     "output_type": "stream",
     "text": [
      " 3\n",
      " Krishna 67 68 69\n",
      " Arjun 70 98 63\n",
      " Malika 52 56 60\n",
      " Malika\n"
     ]
    },
    {
     "name": "stdout",
     "output_type": "stream",
     "text": [
      "56.00\n"
     ]
    }
   ],
   "source": [
    "if __name__ == '__main__':\n",
    "    n = int(input())\n",
    "    student_marks = {}\n",
    "    for _ in range(n):\n",
    "        name, *line = input().split()\n",
    "        scores = list(map(float, line))\n",
    "        student_marks[name] = scores\n",
    "    query_name = input()\n",
    "    prv_name = student_marks[query_name]\n",
    "    average = sum(prv_name)/3\n",
    "    # We will print the average with 2 places after decimal\n",
    "    print(\"%.2f\" % average)"
   ]
  },
  {
   "cell_type": "markdown",
   "id": "8b2d1b2b-7f60-4b9e-8972-44b22d4df927",
   "metadata": {},
   "source": [
    "## Lists"
   ]
  },
  {
   "cell_type": "code",
   "execution_count": 48,
   "id": "9080b0de-b290-4c0b-a8f4-3590df179449",
   "metadata": {},
   "outputs": [
    {
     "name": "stdin",
     "output_type": "stream",
     "text": [
      " 12\n",
      " insert 0 5\n",
      " insert 1 10\n",
      " insert 0 6\n",
      " print\n"
     ]
    },
    {
     "name": "stdout",
     "output_type": "stream",
     "text": [
      "[6, 5, 10]\n"
     ]
    },
    {
     "name": "stdin",
     "output_type": "stream",
     "text": [
      " remove 6\n",
      " append 9\n",
      " append 1 \n",
      " sort\n",
      " print\n"
     ]
    },
    {
     "name": "stdout",
     "output_type": "stream",
     "text": [
      "[1, 5, 9, 10]\n"
     ]
    },
    {
     "name": "stdin",
     "output_type": "stream",
     "text": [
      " pop\n",
      " reverse\n",
      " print\n"
     ]
    },
    {
     "name": "stdout",
     "output_type": "stream",
     "text": [
      "[9, 5, 1]\n"
     ]
    }
   ],
   "source": [
    "if __name__ == '__main__':\n",
    "    N = int(input())\n",
    "    li = []\n",
    "    for i in range(N):\n",
    "        x = list(input().split()) # I used split in order to split the inputs into a list\n",
    "        if x[0] == \"insert\":\n",
    "            li.insert(int(x[1]), int(x[2]))\n",
    "        if x[0] == \"remove\":\n",
    "            li.remove(int(x[1]))\n",
    "        if x[0] == \"append\":\n",
    "            li.append(int(x[1]))\n",
    "        if x[0] == \"sort\":\n",
    "            li.sort()\n",
    "        if x[0] == \"pop\":\n",
    "            li.pop()\n",
    "        if x[0] == \"reverse\":\n",
    "            li.reverse()\n",
    "        if x[0] == \"print\":\n",
    "            print(li)"
   ]
  },
  {
   "cell_type": "markdown",
   "id": "a75fa7b1-cf0c-4c27-838e-a11b0cd40ee0",
   "metadata": {},
   "source": [
    "## Tuples"
   ]
  },
  {
   "cell_type": "code",
   "execution_count": 50,
   "id": "234787dc-a67b-4118-af7a-71281c215b97",
   "metadata": {},
   "outputs": [
    {
     "name": "stdin",
     "output_type": "stream",
     "text": [
      " 2\n",
      " 1 2\n"
     ]
    },
    {
     "name": "stdout",
     "output_type": "stream",
     "text": [
      "-3550055125485641917\n"
     ]
    }
   ],
   "source": [
    "if __name__ == '__main__':\n",
    "    n = int(input())\n",
    "    integer_list = map(int, input().split())\n",
    "    t = tuple(integer_list)\n",
    "    print(hash(t))"
   ]
  },
  {
   "cell_type": "markdown",
   "id": "37a92876-b5be-44fe-98be-e9d1e696498b",
   "metadata": {},
   "source": [
    "# Strings"
   ]
  },
  {
   "cell_type": "markdown",
   "id": "c8911402-4173-4743-abdd-08aa3b4822f1",
   "metadata": {},
   "source": [
    "## sWAP cASE"
   ]
  },
  {
   "cell_type": "code",
   "execution_count": 57,
   "id": "d2d59c2a-28c7-4ae8-88d7-f1f476871b93",
   "metadata": {},
   "outputs": [],
   "source": [
    "def swap_case(s):\n",
    "    return s.swapcase()"
   ]
  },
  {
   "cell_type": "markdown",
   "id": "20ad31e9-e90e-4fe5-af03-255161024d55",
   "metadata": {},
   "source": [
    "## What's Your Name?"
   ]
  },
  {
   "cell_type": "code",
   "execution_count": 59,
   "id": "a8dabebc-a852-4345-a3a3-d082ae02b525",
   "metadata": {},
   "outputs": [],
   "source": [
    "#\n",
    "# Complete the 'print_full_name' function below.\n",
    "#\n",
    "# The function is expected to return a STRING.\n",
    "# The function accepts following parameters:\n",
    "#  1. STRING first\n",
    "#  2. STRING last\n",
    "#\n",
    "\n",
    "def print_full_name(first, last):\n",
    "    # Write your code here\n",
    "    print(f\"Hello {first} {last}! You just delved into python.\")"
   ]
  },
  {
   "cell_type": "markdown",
   "id": "9b9e0df4-e3f4-48cc-807f-0c34cff9bc09",
   "metadata": {},
   "source": [
    "## String Split and Join"
   ]
  },
  {
   "cell_type": "code",
   "execution_count": 61,
   "id": "1a4f9b22-9f15-4085-98e3-b92907384c90",
   "metadata": {},
   "outputs": [
    {
     "name": "stdin",
     "output_type": "stream",
     "text": [
      " this is a string\n"
     ]
    },
    {
     "name": "stdout",
     "output_type": "stream",
     "text": [
      "this-is-a-string\n"
     ]
    }
   ],
   "source": [
    "def split_and_join(line):\n",
    "    # write your code here\n",
    "    l = line\n",
    "    s = l.split(\" \")\n",
    "    return \"-\".join(s)\n",
    "if __name__ == '__main__':\n",
    "    line = input()\n",
    "    result = split_and_join(line)\n",
    "    print(result)"
   ]
  },
  {
   "cell_type": "markdown",
   "id": "99e0e1a8-d366-453c-9242-16734957f188",
   "metadata": {},
   "source": [
    "## Mutations"
   ]
  },
  {
   "cell_type": "code",
   "execution_count": 63,
   "id": "06c9f512-8e41-44d1-8f10-7b78932f5576",
   "metadata": {},
   "outputs": [],
   "source": [
    "def mutate_string(string, position, character):\n",
    "    return string[:position] + character + string[position+1:]"
   ]
  },
  {
   "cell_type": "markdown",
   "id": "d3755ba4-c5e4-499b-b0dd-761109d627af",
   "metadata": {},
   "source": [
    "## Find a string"
   ]
  },
  {
   "cell_type": "code",
   "execution_count": 74,
   "id": "0f0286dd-4fc4-4436-b3a3-574e3d6a3dee",
   "metadata": {},
   "outputs": [],
   "source": [
    "def count_substring(string, sub_string):\n",
    "    return sum(string[i:].startswith(sub_string) for i in range(len(string)))"
   ]
  },
  {
   "cell_type": "markdown",
   "id": "399d19f4-a231-4f34-9d7c-b2dc877e0629",
   "metadata": {},
   "source": [
    "## String Validators"
   ]
  },
  {
   "cell_type": "code",
   "execution_count": 76,
   "id": "05060b0b-63ec-49fa-91df-aee78ff9d420",
   "metadata": {},
   "outputs": [
    {
     "name": "stdin",
     "output_type": "stream",
     "text": [
      " qA2\n"
     ]
    },
    {
     "name": "stdout",
     "output_type": "stream",
     "text": [
      "True\n",
      "True\n",
      "True\n",
      "True\n",
      "True\n"
     ]
    }
   ],
   "source": [
    "if __name__ == '__main__':\n",
    "    s = input()\n",
    "string = list(s)\n",
    "\n",
    "alphan = False\n",
    "alpha = False\n",
    "dig = False\n",
    "lower = False\n",
    "upper = False\n",
    "\n",
    "for i in string:\n",
    "    alphan  = alphan or i.isalnum()\n",
    "    alpha = alpha or i.isalpha()\n",
    "    dig = dig or i.isdigit()\n",
    "    lower = lower or i.islower()\n",
    "    upper = upper or i.isupper()\n",
    "\n",
    "print(alphan)\n",
    "print(alpha)\n",
    "print(dig)\n",
    "print(lower)\n",
    "print(upper)"
   ]
  },
  {
   "cell_type": "markdown",
   "id": "6f4e122f-a11a-4160-a2e4-2ab09f6c2035",
   "metadata": {},
   "source": [
    "## Text Alignment"
   ]
  },
  {
   "cell_type": "code",
   "execution_count": 78,
   "id": "175f642d-9a72-46f9-8885-575a3e74d735",
   "metadata": {},
   "outputs": [
    {
     "name": "stdin",
     "output_type": "stream",
     "text": [
      " 5\n"
     ]
    },
    {
     "name": "stdout",
     "output_type": "stream",
     "text": [
      "    H    \n",
      "   HHH   \n",
      "  HHHHH  \n",
      " HHHHHHH \n",
      "HHHHHHHHH\n",
      "  HHHHH               HHHHH             \n",
      "  HHHHH               HHHHH             \n",
      "  HHHHH               HHHHH             \n",
      "  HHHHH               HHHHH             \n",
      "  HHHHH               HHHHH             \n",
      "  HHHHH               HHHHH             \n",
      "  HHHHHHHHHHHHHHHHHHHHHHHHH   \n",
      "  HHHHHHHHHHHHHHHHHHHHHHHHH   \n",
      "  HHHHHHHHHHHHHHHHHHHHHHHHH   \n",
      "  HHHHH               HHHHH             \n",
      "  HHHHH               HHHHH             \n",
      "  HHHHH               HHHHH             \n",
      "  HHHHH               HHHHH             \n",
      "  HHHHH               HHHHH             \n",
      "  HHHHH               HHHHH             \n",
      "                    HHHHHHHHH \n",
      "                     HHHHHHH  \n",
      "                      HHHHH   \n",
      "                       HHH    \n",
      "                        H     \n"
     ]
    }
   ],
   "source": [
    "# Enter your code here. Read input from STDIN. Print output to STDOUT\n",
    "thick = int(input())\n",
    "filler = \"H\"\n",
    "\n",
    "for i in range(thick): # to create the top arrow, by increasing the width\n",
    "    print((filler*i).rjust(thick-1) + filler + (filler*i).ljust(thick-1))\n",
    "for i in range(thick+1): #to create the top column\n",
    "    print((filler*thick).center(thick*2) + (filler*thick).center(thick*6))\n",
    "for i in range((thick+1)//2): # to create the middle, by printing as 5 times the thickness\n",
    "    print((filler*thick*5).center(thick*6))\n",
    "for i in range(thick+1): #to create the bottom column, as the top column\n",
    "    print((filler*thick).center(thick*2)+(filler*thick).center(thick*6))\n",
    "for i in range(thick): #to create the bottom arrow, by decreasing the width\n",
    "    print(((filler*(thick-i-1)).rjust(thick)+filler+(filler*(thick-i-1)).ljust(thick)).rjust(thick*6))"
   ]
  },
  {
   "cell_type": "markdown",
   "id": "3c1a7aa2-8fe6-4820-a47b-c1ec44ad4d77",
   "metadata": {},
   "source": [
    "## Text Wrap"
   ]
  },
  {
   "cell_type": "code",
   "execution_count": 80,
   "id": "6b3aeb6d-5a08-42dc-bcca-6a9371628ad9",
   "metadata": {},
   "outputs": [],
   "source": [
    "def wrap(string, max_width):\n",
    "    final = textwrap.fill(string, max_width)\n",
    "    return final"
   ]
  },
  {
   "cell_type": "markdown",
   "id": "6188df06-534d-4dec-98fe-522e1e8b481c",
   "metadata": {},
   "source": [
    "## Designer Door Mat"
   ]
  },
  {
   "cell_type": "code",
   "execution_count": 82,
   "id": "2d17500c-9ea4-4c49-ac05-9c4e8d9b7f4c",
   "metadata": {},
   "outputs": [
    {
     "name": "stdin",
     "output_type": "stream",
     "text": [
      " 7 21\n"
     ]
    },
    {
     "name": "stdout",
     "output_type": "stream",
     "text": [
      "---------.|.---------\n",
      "------.|..|..|.------\n",
      "---.|..|..|..|..|.---\n",
      "-------WELCOME-------\n",
      "---.|..|..|..|..|.---\n",
      "------.|..|..|.------\n",
      "---------.|.---------\n"
     ]
    }
   ],
   "source": [
    "# Enter your code here. Read input from STDIN. Print output to STDOUT\n",
    "# We will use the \"center\" function in order to put the \".|.\" in the center as well as the \"WELCOME\"\n",
    "N,M = list(map(int,input().split()))\n",
    "j = 1\n",
    "for i in range(N):\n",
    "    if i < N//2:\n",
    "        print((\".|.\"*j).center(M,\"-\")) # in order to create the upper part\n",
    "        j += 2 # it's increasing by 2 every time\n",
    "    elif i == N//2: # in order to create the middle part\n",
    "        print(\"WELCOME\".center(M,\"-\"))\n",
    "    elif i > N//2: # in order to create the bottom part\n",
    "        j -= 2 # it's decreasing by 2 every time\n",
    "        print((\".|.\"*j).center(M,\"-\"))"
   ]
  },
  {
   "cell_type": "markdown",
   "id": "ccf61bd3-8b27-498b-afe0-8bcbf725d319",
   "metadata": {},
   "source": [
    "## String Formatting"
   ]
  },
  {
   "cell_type": "code",
   "execution_count": 86,
   "id": "02f5ba12-516c-4997-a287-c6d1d1843e50",
   "metadata": {},
   "outputs": [],
   "source": [
    "def print_formatted(number):\n",
    "    # your code goes here\n",
    "    binary = format(number,\"b\")\n",
    "    size = len(binary)\n",
    "    for i in range(1,n+1):\n",
    "        octal = format(i,\"o\")\n",
    "        hexad = format(i,\"x\")\n",
    "        bina = format(i,\"b\")\n",
    "        \n",
    "        print(str(i).rjust(size),str(octal).rjust(size),str(hexad.upper()).rjust(size),str(bina).rjust(size))"
   ]
  },
  {
   "cell_type": "markdown",
   "id": "9666585f-90f8-45e2-81df-7e356a0cb909",
   "metadata": {},
   "source": [
    "## Alphabet Rangoli"
   ]
  },
  {
   "cell_type": "code",
   "execution_count": 88,
   "id": "e49f0a87-7772-4aac-ac40-1f2ccaad7c12",
   "metadata": {},
   "outputs": [],
   "source": [
    "def print_rangoli(size):\n",
    "    # your code goes here\n",
    "    order = \"-\".join(chr(char) for char in reversed(range(ord(\"a\"), ord(\"a\")+size)))\n",
    "    # we reverse the order of the alphabet until the nth letter\n",
    "    l = []\n",
    "    for i in range(1, size*2, 2):\n",
    "        # we are slicing the string and we connect it with its reverse\n",
    "        line = f\"{order[:i]}{order[:i-1][::-1]}\"\n",
    "        l.append(f'{line:-^{size * 4 - 3}}')\n",
    "        print(l[-1]) # we print the list in reverse\n",
    "    print('\\n'.join(reversed(l[:-1])))"
   ]
  },
  {
   "cell_type": "markdown",
   "id": "570c21ff-3e35-4e4f-9d9b-d2f20d27e3bc",
   "metadata": {},
   "source": [
    "## Capitalize!"
   ]
  },
  {
   "cell_type": "code",
   "execution_count": 90,
   "id": "22987961-21cb-4c0d-b936-ef94eb5d3ddb",
   "metadata": {},
   "outputs": [],
   "source": [
    "# Complete the solve function below.\n",
    "def solve(s):\n",
    "    return \" \".join([fullname.capitalize() for fullname in s.split(\" \")])\n"
   ]
  },
  {
   "cell_type": "markdown",
   "id": "e059a18e-7fd6-46b4-ba2a-82f406fdd917",
   "metadata": {},
   "source": [
    "## The Minion Game"
   ]
  },
  {
   "cell_type": "code",
   "execution_count": 92,
   "id": "7e2ef01a-01ea-4cfb-935d-27f213fb5632",
   "metadata": {},
   "outputs": [],
   "source": [
    "def minion_game(string):\n",
    "    # your code goes here\n",
    "    Stuart = Kevin = 0\n",
    "    length = len(string)\n",
    "    Vowels = \"AEIOU\"\n",
    "    for i in range(length):\n",
    "        if string[i] in Vowels:\n",
    "            Kevin += length - i\n",
    "        else:\n",
    "            Stuart += length - i\n",
    "    if Kevin < Stuart:\n",
    "        print(\"Stuart\", str(Stuart))\n",
    "    elif Kevin > Stuart:\n",
    "        print(\"Kevin\", str(Kevin))\n",
    "    else:\n",
    "        print(\"Draw\")"
   ]
  },
  {
   "cell_type": "markdown",
   "id": "c00bfdc8-67e1-4da6-8e8e-8993a35160bc",
   "metadata": {},
   "source": [
    "## Merge the Tools!"
   ]
  },
  {
   "cell_type": "code",
   "execution_count": 95,
   "id": "5794d539-9039-4a0d-8955-7c723476529d",
   "metadata": {},
   "outputs": [],
   "source": [
    "def merge_the_tools(string, k):\n",
    "    # your code goes here\n",
    "    a = len(string)//k\n",
    "    for i in range(a):\n",
    "        print(\"\".join(dict.fromkeys(string[i*k:(i*k)+k])))"
   ]
  },
  {
   "cell_type": "markdown",
   "id": "29f2fb00-74cc-4eda-a435-2cdf1ac7ad19",
   "metadata": {},
   "source": [
    "# Sets"
   ]
  },
  {
   "cell_type": "markdown",
   "id": "bdf70dde-c7f5-4efa-adb2-9d0187a82e2b",
   "metadata": {},
   "source": [
    "## Introduction to Sets"
   ]
  },
  {
   "cell_type": "code",
   "execution_count": 107,
   "id": "7c390a7f-3896-4a00-b345-58d6a428b85b",
   "metadata": {},
   "outputs": [],
   "source": [
    "def average(array):\n",
    "    # your code goes here\n",
    "    a = set(arr)\n",
    "    average = sum(a)/len(a)\n",
    "    return(round(average, 3))"
   ]
  },
  {
   "cell_type": "markdown",
   "id": "13f4c4bb-b779-4f49-94c6-a0d5f86b76f9",
   "metadata": {},
   "source": [
    "## No Idea!"
   ]
  },
  {
   "cell_type": "code",
   "execution_count": 109,
   "id": "0c04e9de-b095-41aa-a542-07ac21563908",
   "metadata": {},
   "outputs": [
    {
     "name": "stdin",
     "output_type": "stream",
     "text": [
      " 3 2\n",
      " 1 5 3\n",
      " 3 1\n",
      " 5 7\n"
     ]
    },
    {
     "name": "stdout",
     "output_type": "stream",
     "text": [
      "1\n"
     ]
    }
   ],
   "source": [
    "# Enter your code here. Read input from STDIN. Print output to STDOUT\n",
    "N,M = input().split()\n",
    "array = input().split()\n",
    "hap = 0\n",
    "A = set(input().split())\n",
    "B = set(input().split())\n",
    "\n",
    "for i in array:\n",
    "    if i in A:\n",
    "        hap += 1\n",
    "    elif i in B:\n",
    "        hap -= 1\n",
    "    else:\n",
    "        hap = hap\n",
    "\n",
    "print(hap)"
   ]
  },
  {
   "cell_type": "markdown",
   "id": "895c4672-bf64-44c6-8b96-fa428376ff44",
   "metadata": {},
   "source": [
    "## Symmetric Difference"
   ]
  },
  {
   "cell_type": "code",
   "execution_count": 111,
   "id": "8f5c5642-a83f-496a-9fa6-8a26c4b1d7bd",
   "metadata": {},
   "outputs": [
    {
     "name": "stdin",
     "output_type": "stream",
     "text": [
      " 4\n",
      " 2 4 5 9\n",
      " 4\n",
      " 2 4 11 12\n"
     ]
    },
    {
     "name": "stdout",
     "output_type": "stream",
     "text": [
      "5\n",
      "9\n",
      "11\n",
      "12\n"
     ]
    }
   ],
   "source": [
    "# Enter your code here. Read input from STDIN. Print output to STDOUT\n",
    "M = int(input())\n",
    "setM = set(map(int, input().split()))\n",
    "N = int(input())\n",
    "setN = set(map(int, input().split()))\n",
    "\n",
    "symmetric_difference = setM.symmetric_difference(setN)\n",
    "\n",
    "sort = sorted(symmetric_difference)\n",
    "for i in sort:\n",
    "    print(i)"
   ]
  },
  {
   "cell_type": "markdown",
   "id": "73cba8e7-ecd4-4a87-82dc-b6c311d3cf6e",
   "metadata": {},
   "source": [
    "## Set .add()"
   ]
  },
  {
   "cell_type": "code",
   "execution_count": 113,
   "id": "1dff114f-9e4d-450b-9a13-5f744a695d0d",
   "metadata": {},
   "outputs": [
    {
     "name": "stdin",
     "output_type": "stream",
     "text": [
      " 7\n",
      " UK\n",
      " China\n",
      " USA\n",
      " France\n",
      " New Zeland\n",
      " UK\n",
      " France\n"
     ]
    },
    {
     "name": "stdout",
     "output_type": "stream",
     "text": [
      "5\n"
     ]
    }
   ],
   "source": [
    "N = int(input())\n",
    "stamps_countries = set()\n",
    "\n",
    "for i in range(N):\n",
    "    stamps_countries.add(input())\n",
    "print(len(stamps_countries))"
   ]
  },
  {
   "cell_type": "markdown",
   "id": "78358bb5-01b6-4180-a254-a3d457af774c",
   "metadata": {},
   "source": [
    "## Set .discard(), .remove() & .pop()"
   ]
  },
  {
   "cell_type": "code",
   "execution_count": 115,
   "id": "8b03ca6d-ec14-45e9-b311-d6a040bb330c",
   "metadata": {},
   "outputs": [
    {
     "name": "stdin",
     "output_type": "stream",
     "text": [
      " 9\n",
      " 1 2 3 4 5 6 7 8 9\n",
      " 10\n",
      " pop\n",
      " remove 9\n",
      " discard 9\n",
      " discard 8\n",
      " remove 7\n",
      " pop\n",
      " discard 6\n",
      " remove 5\n",
      " pop\n",
      " discard 5\n"
     ]
    },
    {
     "name": "stdout",
     "output_type": "stream",
     "text": [
      "4\n"
     ]
    }
   ],
   "source": [
    "n = int(input())\n",
    "s = set(map(int, input().split()))\n",
    "N = int(input())\n",
    "for i in range(N):\n",
    "    commands = input().split()\n",
    "    if commands[0] == \"pop\":\n",
    "        s.pop()\n",
    "    elif commands[0] == \"remove\":\n",
    "        s.remove(int(commands[1]))\n",
    "    else:\n",
    "        s.discard(int(commands[1]))\n",
    "print(sum(s))"
   ]
  },
  {
   "cell_type": "markdown",
   "id": "1d409e40-a24d-4c6c-b694-d03107be7e34",
   "metadata": {},
   "source": [
    "## Set .union() Operation"
   ]
  },
  {
   "cell_type": "code",
   "execution_count": 117,
   "id": "6ec982bc-1754-492d-b51a-8eadf131305d",
   "metadata": {},
   "outputs": [
    {
     "name": "stdin",
     "output_type": "stream",
     "text": [
      " 9\n",
      " 1 2 3 4 5 6 7 8 9\n",
      " 9\n",
      " 10 1 2 3 11 21 55 6 8\n"
     ]
    },
    {
     "name": "stdout",
     "output_type": "stream",
     "text": [
      "13\n"
     ]
    }
   ],
   "source": [
    "n = int(input())\n",
    "English = set(map(int, input().split()))\n",
    "b = int(input())\n",
    "French = set(map(int, input().split()))\n",
    "\n",
    "print(len(English.union(French)))"
   ]
  },
  {
   "cell_type": "markdown",
   "id": "dfcea02c-affa-4139-af59-b8f2a22486fb",
   "metadata": {},
   "source": [
    "## Set .intersection() Operation"
   ]
  },
  {
   "cell_type": "code",
   "execution_count": 119,
   "id": "88441454-e047-4db2-ab2e-8899efec2687",
   "metadata": {},
   "outputs": [
    {
     "name": "stdin",
     "output_type": "stream",
     "text": [
      " 9\n",
      " 1 2 3 4 5 6 7 8 9\n",
      " 9\n",
      " 10 1 2 3 11 21 55 6 8\n"
     ]
    },
    {
     "name": "stdout",
     "output_type": "stream",
     "text": [
      "5\n"
     ]
    }
   ],
   "source": [
    "n = int(input())\n",
    "English = set(map(int, input().split()))\n",
    "b = int(input())\n",
    "French = set(map(int, input().split()))\n",
    "print(len(English & French))"
   ]
  },
  {
   "cell_type": "markdown",
   "id": "0ebf1cf6-5c19-4094-867c-9488bf495567",
   "metadata": {},
   "source": [
    "## Set .difference() Operation"
   ]
  },
  {
   "cell_type": "code",
   "execution_count": 121,
   "id": "45a9d335-b4d6-4ae0-b14d-118ec30d2c82",
   "metadata": {},
   "outputs": [
    {
     "name": "stdin",
     "output_type": "stream",
     "text": [
      " 9\n",
      " 1 2 3 4 5 6 7 8 9\n",
      " 9\n",
      " 10 1 2 3 11 21 55 6 8\n"
     ]
    },
    {
     "name": "stdout",
     "output_type": "stream",
     "text": [
      "4\n"
     ]
    }
   ],
   "source": [
    "n = int(input())\n",
    "English = set(map(int, input().split()))\n",
    "b = int(input())\n",
    "French = set(map(int, input().split()))\n",
    "print(len(English.difference(French)))"
   ]
  },
  {
   "cell_type": "markdown",
   "id": "e190c66c-98cc-4a05-8f75-b906c2175780",
   "metadata": {},
   "source": [
    "## Set .symmetric_difference() Operation"
   ]
  },
  {
   "cell_type": "code",
   "execution_count": 123,
   "id": "7439fcb4-33ee-4117-b275-81452628c5ed",
   "metadata": {},
   "outputs": [
    {
     "name": "stdin",
     "output_type": "stream",
     "text": [
      " 9\n",
      " 1 2 3 4 5 6 7 8 9\n",
      " 9\n",
      " 10 1 2 3 11 21 55 6 8\n"
     ]
    },
    {
     "name": "stdout",
     "output_type": "stream",
     "text": [
      "8\n"
     ]
    }
   ],
   "source": [
    "n = int(input())\n",
    "English = set(map(int, input().split()))\n",
    "b = int(input())\n",
    "French = set(map(int, input().split()))\n",
    "print(len(English.symmetric_difference(French)))"
   ]
  },
  {
   "cell_type": "markdown",
   "id": "23af36d8-407e-4071-a8c0-32b11d434f49",
   "metadata": {},
   "source": [
    "## Set Mutations"
   ]
  },
  {
   "cell_type": "code",
   "execution_count": 129,
   "id": "9652027b-5284-4d93-99a2-987550baa403",
   "metadata": {},
   "outputs": [
    {
     "name": "stdin",
     "output_type": "stream",
     "text": [
      " 16\n",
      " 1 2 3 4 5 6 7 8 9 10 11 12 13 14 24 52\n",
      " 4\n",
      " intersection_update 10\n",
      " 2 3 5 6 8 9 1 4 7 11\n",
      " update 2\n",
      " 55 66\n",
      " symmetric_difference_update 5\n",
      " 22 7 35 62 58\n",
      " difference_update 7\n",
      " 11 22 35 55 58 62 66\n"
     ]
    },
    {
     "name": "stdout",
     "output_type": "stream",
     "text": [
      "38\n"
     ]
    }
   ],
   "source": [
    "elements_A = int(input())\n",
    "setA = set(map(int, input().split()))\n",
    "other_sets = int(input())\n",
    "for i in range(other_sets):\n",
    "    operation_name = input().split()\n",
    "    randomset = set(map(int, input().split()))\n",
    "    if operation_name[0] == \"update\":\n",
    "        setA.update(randomset)\n",
    "    elif operation_name[0] == \"intersection_update\":\n",
    "        setA.intersection_update(randomset)\n",
    "    elif operation_name[0] == \"difference_update\":\n",
    "        setA.difference_update(randomset)\n",
    "    else:\n",
    "        setA.symmetric_difference_update(randomset)\n",
    "\n",
    "print(sum(setA))"
   ]
  },
  {
   "cell_type": "markdown",
   "id": "7ab6b14f-d2cb-40bb-acbd-6a26851ea215",
   "metadata": {},
   "source": [
    "## The Captain's Room"
   ]
  },
  {
   "cell_type": "code",
   "execution_count": 134,
   "id": "754604ec-225e-4117-bc8b-627e8270a88e",
   "metadata": {},
   "outputs": [
    {
     "name": "stdin",
     "output_type": "stream",
     "text": [
      " 5\n",
      " 1 2 3 6 5 4 4 2 5 3 6 1 6 5 3 2 4 1 2 5 1 4 3 6 8 4 3 1 5 6 2 \n"
     ]
    },
    {
     "name": "stdout",
     "output_type": "stream",
     "text": [
      "8\n"
     ]
    }
   ],
   "source": [
    "from collections import Counter\n",
    "\n",
    "K = int(input())\n",
    "room_number = list(map(int, input().split()))\n",
    "repeat_room = Counter(room_number)\n",
    "for i, repeats in repeat_room.items():\n",
    "    if repeats == 1:\n",
    "        print(i)\n",
    "        break"
   ]
  },
  {
   "cell_type": "markdown",
   "id": "5e43160c-650b-428d-9ae1-5827904c1f17",
   "metadata": {},
   "source": [
    "## Check Subset"
   ]
  },
  {
   "cell_type": "code",
   "execution_count": 136,
   "id": "6b7f95ce-0c0f-4153-ad71-a2e3c758806b",
   "metadata": {},
   "outputs": [
    {
     "name": "stdin",
     "output_type": "stream",
     "text": [
      " 3\n",
      " 5\n",
      " 1 2 3 5 6\n",
      " 9\n",
      " 9 8 5 6 3 2 1 4 7\n"
     ]
    },
    {
     "name": "stdout",
     "output_type": "stream",
     "text": [
      "True\n"
     ]
    },
    {
     "name": "stdin",
     "output_type": "stream",
     "text": [
      " 1\n",
      " 2\n",
      " 5\n",
      " 3 6 5 4 1\n"
     ]
    },
    {
     "name": "stdout",
     "output_type": "stream",
     "text": [
      "False\n"
     ]
    },
    {
     "name": "stdin",
     "output_type": "stream",
     "text": [
      " 7\n",
      " 1 2 3 5 6 8 9\n",
      " 3\n",
      " 9 8 2\n"
     ]
    },
    {
     "name": "stdout",
     "output_type": "stream",
     "text": [
      "False\n"
     ]
    }
   ],
   "source": [
    "T = int(input())\n",
    "for i in range(T):\n",
    "    elementsA = int(input())\n",
    "    A = set(map(int, input().split()))\n",
    "    elementsB = int(input())\n",
    "    B = set(map(int, input().split()))\n",
    "    print(A <= B)"
   ]
  },
  {
   "cell_type": "markdown",
   "id": "d72c1e8c-ae02-45e1-82ef-ba955fd703d0",
   "metadata": {},
   "source": [
    "## Check Strict Superset"
   ]
  },
  {
   "cell_type": "code",
   "execution_count": 147,
   "id": "b3e06cee-5705-4a33-9812-b316b83b7648",
   "metadata": {},
   "outputs": [
    {
     "name": "stdin",
     "output_type": "stream",
     "text": [
      " 1 2 3 4 5 6 7 8 9 10 11 12 23 45 84 78\n",
      " 2\n",
      " 1 2 3 4 5\n",
      " 100 11 12\n"
     ]
    },
    {
     "name": "stdout",
     "output_type": "stream",
     "text": [
      "False\n"
     ]
    }
   ],
   "source": [
    "A = set(map(int, input().split()))\n",
    "n = int(input())\n",
    "x = True\n",
    "for i in range(n):\n",
    "    other = set(map(int, input().split()))\n",
    "    if not A.issuperset(other):\n",
    "        x = False\n",
    "        break\n",
    "print(x)"
   ]
  },
  {
   "cell_type": "markdown",
   "id": "6d87f231-c470-4d2a-844f-9a947da3f30f",
   "metadata": {},
   "source": [
    "# Collections"
   ]
  },
  {
   "cell_type": "markdown",
   "id": "2563cc7c-6bfd-49c7-a03e-e04e4e7f8920",
   "metadata": {},
   "source": [
    "## collections.Counter()"
   ]
  },
  {
   "cell_type": "code",
   "execution_count": 7,
   "id": "7d717458-e0f3-42c6-96c0-69ff883b6910",
   "metadata": {},
   "outputs": [
    {
     "name": "stdin",
     "output_type": "stream",
     "text": [
      " 10\n",
      " 2 3 4 5 6 7 8 7 6 5 18\n",
      " 6\n",
      " 6 55\n",
      " 6 45\n",
      " 6 55\n",
      " 4 40\n",
      " 18 60\n",
      " 10 50\n"
     ]
    },
    {
     "name": "stdout",
     "output_type": "stream",
     "text": [
      "200\n"
     ]
    }
   ],
   "source": [
    "from collections import Counter\n",
    "\n",
    "shoes = int(input())\n",
    "sizes = Counter(list(map(int, input().split())))\n",
    "customers = int(input())\n",
    "money = 0\n",
    "for i in range(customers):\n",
    "    shoe_size, x = map(int, input().split())\n",
    "    if sizes[shoe_size]:\n",
    "        money += x\n",
    "        sizes[shoe_size] -= 1\n",
    "\n",
    "print(money)"
   ]
  },
  {
   "cell_type": "markdown",
   "id": "48d888f9-0f54-4c15-b909-68b5b14f4fa6",
   "metadata": {},
   "source": [
    "## DefaultDict Tutorial"
   ]
  },
  {
   "cell_type": "code",
   "execution_count": 9,
   "id": "8da319a1-9007-4c73-b207-4be90ef10d36",
   "metadata": {},
   "outputs": [
    {
     "name": "stdin",
     "output_type": "stream",
     "text": [
      " 5 2\n",
      " a\n",
      " a\n",
      " b\n",
      " a\n",
      " b\n",
      " a\n"
     ]
    },
    {
     "name": "stdout",
     "output_type": "stream",
     "text": [
      "1 2 4\n"
     ]
    },
    {
     "name": "stdin",
     "output_type": "stream",
     "text": [
      " b\n"
     ]
    },
    {
     "name": "stdout",
     "output_type": "stream",
     "text": [
      "3 5\n"
     ]
    }
   ],
   "source": [
    "from collections import defaultdict\n",
    "\n",
    "A = defaultdict(list)\n",
    "n, m = list(map(int, input().split()))\n",
    "for i in range(n):\n",
    "    A[input()].append(i+1)\n",
    "\n",
    "for x in range(m):\n",
    "    B = input()\n",
    "    if B in A.keys():\n",
    "        print(*A[B])\n",
    "    else:\n",
    "        print(-1)"
   ]
  },
  {
   "cell_type": "markdown",
   "id": "5fdadadb-cea1-459d-ab05-7b1beb45df00",
   "metadata": {},
   "source": [
    "## Collections.namedtuple()"
   ]
  },
  {
   "cell_type": "code",
   "execution_count": 11,
   "id": "dc54cfd3-cd86-49e6-b2be-725a79d66257",
   "metadata": {},
   "outputs": [
    {
     "name": "stdin",
     "output_type": "stream",
     "text": [
      " 5\n",
      " ID         MARKS      NAME       CLASS\n",
      " 1          97         Raymond    7\n",
      " 2          50         Steven     4\n",
      " 3          91         Adrian     9\n",
      " 4          72         Stewart    5\n",
      " 5          80         Peter      6\n"
     ]
    },
    {
     "name": "stdout",
     "output_type": "stream",
     "text": [
      "78.00\n"
     ]
    }
   ],
   "source": [
    "from collections import namedtuple\n",
    "students = int(input())\n",
    "columns = namedtuple(\"columns\", input().split())\n",
    "# we get the input for each student and we extract the MARKS an we sum them.\n",
    "# we find the average and we print it to 2 decimal places\n",
    "print(f\"{sum(int(columns(*input().split()).MARKS)for i in range(students))/students:.2f}\")"
   ]
  },
  {
   "cell_type": "markdown",
   "id": "f6c86924-dd27-4d71-a851-1d4e2dd2705d",
   "metadata": {},
   "source": [
    "## Collections.OrderedDict()"
   ]
  },
  {
   "cell_type": "code",
   "execution_count": 13,
   "id": "af95bf0a-49aa-41eb-84ed-60bb49c19d9c",
   "metadata": {},
   "outputs": [
    {
     "name": "stdin",
     "output_type": "stream",
     "text": [
      " 9\n",
      " BANANA FRIES 12\n",
      " POTATO CHIPS 30\n",
      " APPLE JUICE 10\n",
      " CANDY 5\n",
      " APPLE JUICE 10\n",
      " CANDY 5\n",
      " CANDY 5\n",
      " CANDY 5\n",
      " POTATO CHIPS 30\n"
     ]
    },
    {
     "name": "stdout",
     "output_type": "stream",
     "text": [
      "BANANA FRIES 12\n",
      "POTATO CHIPS 60\n",
      "APPLE JUICE 20\n",
      "CANDY 20\n"
     ]
    }
   ],
   "source": [
    "from collections import OrderedDict\n",
    "\n",
    "n_items = int(input())\n",
    "ordered_dictionary = OrderedDict()\n",
    "for i in range(n_items):\n",
    "    item, price = input().rsplit(\" \", 1)\n",
    "    ordered_dictionary[item] = ordered_dictionary.get(item, 0) + int(price)\n",
    "\n",
    "for item, price in ordered_dictionary.items():\n",
    "    print(f\"{item} {price}\")"
   ]
  },
  {
   "cell_type": "markdown",
   "id": "4a9c377b-6e51-4372-827c-c30d0de7c38a",
   "metadata": {},
   "source": [
    "## Word Order"
   ]
  },
  {
   "cell_type": "code",
   "execution_count": 15,
   "id": "3f407bec-07e4-4f67-a77c-5ad7d3c48277",
   "metadata": {},
   "outputs": [
    {
     "name": "stdin",
     "output_type": "stream",
     "text": [
      " 4\n",
      " bcdef\n",
      " abcdefg\n",
      " bcde\n",
      " bcdef\n"
     ]
    },
    {
     "name": "stdout",
     "output_type": "stream",
     "text": [
      "3\n",
      "2 1 1\n"
     ]
    }
   ],
   "source": [
    "from collections import Counter\n",
    "n = int(input())\n",
    "\n",
    "wordl = [list(map(str, input().split()))for i in range(n)]\n",
    "    \n",
    "x = [j[0]for j in wordl]\n",
    "\n",
    "\n",
    "print(len(Counter(x).keys()))\n",
    "frequencies = list(Counter(x).values())\n",
    "str_fr = \" \".join([str(y) for y in frequencies])\n",
    "print(str_fr)"
   ]
  },
  {
   "cell_type": "markdown",
   "id": "276cf99d-36a0-444e-916f-6209ab685b63",
   "metadata": {},
   "source": [
    "## Collections.deque() "
   ]
  },
  {
   "cell_type": "code",
   "execution_count": 20,
   "id": "322abaa2-3f35-4950-9e9a-9f3299ec4d53",
   "metadata": {},
   "outputs": [
    {
     "name": "stdin",
     "output_type": "stream",
     "text": [
      " 6\n",
      " append 1\n",
      " append 2\n",
      " append 3\n",
      " appendleft 4\n",
      " pop\n",
      " popleft\n"
     ]
    },
    {
     "name": "stdout",
     "output_type": "stream",
     "text": [
      "1 2\n"
     ]
    }
   ],
   "source": [
    "from collections import deque\n",
    "d = deque()\n",
    "n = int(input())\n",
    "for i in range(n):\n",
    "    method = input().split()\n",
    "    if method[0] == \"append\":\n",
    "        d.append(method[1])\n",
    "    elif method[0] == \"pop\":\n",
    "        d.pop()\n",
    "    elif method[0] == \"popleft\":\n",
    "        d.popleft()\n",
    "    else:\n",
    "        d.appendleft(method[1])\n",
    "\n",
    "print(\" \".join(d))"
   ]
  },
  {
   "cell_type": "markdown",
   "id": "444dbac1-6f43-4951-a1a9-66b710d352da",
   "metadata": {},
   "source": [
    "## Company Logo"
   ]
  },
  {
   "cell_type": "code",
   "execution_count": 25,
   "id": "57cdcd49-4a15-4b57-99e3-224c455b01bd",
   "metadata": {},
   "outputs": [
    {
     "name": "stdin",
     "output_type": "stream",
     "text": [
      " aabbbccde\n"
     ]
    },
    {
     "name": "stdout",
     "output_type": "stream",
     "text": [
      "b 3\n",
      "a 2\n",
      "c 2\n"
     ]
    }
   ],
   "source": [
    "import math\n",
    "import os\n",
    "import random\n",
    "import re\n",
    "import sys\n",
    "from collections import Counter\n",
    "\n",
    "\n",
    "\n",
    "if __name__ == '__main__':\n",
    "    s = input() #company name in lowercase\n",
    "    sort = sorted(s)\n",
    "    common = Counter(list(sort))\n",
    "    for i, x in common.most_common(3):\n",
    "        print(i, x)\n",
    "    "
   ]
  },
  {
   "cell_type": "markdown",
   "id": "edf534a5-4645-4f24-83fd-6263eff2ff5c",
   "metadata": {},
   "source": [
    "## Piling Up!"
   ]
  },
  {
   "cell_type": "code",
   "execution_count": 30,
   "id": "cbf96a55-1eff-43f5-8d33-895b4237e08f",
   "metadata": {},
   "outputs": [
    {
     "name": "stdin",
     "output_type": "stream",
     "text": [
      " 2\n",
      " 6\n",
      " 4 3 2 1 3 4\n"
     ]
    },
    {
     "name": "stdout",
     "output_type": "stream",
     "text": [
      "Yes\n"
     ]
    },
    {
     "name": "stdin",
     "output_type": "stream",
     "text": [
      " 3\n",
      " 1 3 2\n"
     ]
    },
    {
     "name": "stdout",
     "output_type": "stream",
     "text": [
      "No\n"
     ]
    }
   ],
   "source": [
    "from collections import deque\n",
    "T = int(input())\n",
    "for i in range(T):\n",
    "    n = int(input())\n",
    "    d = deque(list(map(int, input().split())))\n",
    "    x = 2**31\n",
    "    for j in range(len(d)):\n",
    "        if d[0]>=d[len(d)-1] and d[0]<=x:\n",
    "            x = d.popleft()\n",
    "        elif d[len(d)-1]<=x:\n",
    "            x = d.pop()\n",
    "        else:\n",
    "            print(\"No\")\n",
    "            break\n",
    "    if len(d) == 0:\n",
    "        print(\"Yes\")\n",
    "    "
   ]
  },
  {
   "cell_type": "markdown",
   "id": "5abe3135-3d6b-489c-9b3b-cf79913f04ef",
   "metadata": {},
   "source": [
    "# Date and Time"
   ]
  },
  {
   "cell_type": "markdown",
   "id": "bd1e7222-c3dc-4493-a332-1995d2ccbfc3",
   "metadata": {},
   "source": [
    "## Calendar Module"
   ]
  },
  {
   "cell_type": "code",
   "execution_count": 34,
   "id": "7fec26a8-82b3-4340-b8db-d1aa9fd4cfc8",
   "metadata": {},
   "outputs": [
    {
     "name": "stdin",
     "output_type": "stream",
     "text": [
      " 08 05 2015\n"
     ]
    },
    {
     "name": "stdout",
     "output_type": "stream",
     "text": [
      "WEDNESDAY\n"
     ]
    }
   ],
   "source": [
    "import calendar\n",
    "\n",
    "month, day, year = map(int, input().split())\n",
    "a = calendar.weekday(year, month, day)\n",
    "d_name = list(calendar.day_name)\n",
    "print(d_name[a].upper())"
   ]
  },
  {
   "cell_type": "markdown",
   "id": "274b994d-c102-4e89-817d-9f0d8dcacdcc",
   "metadata": {},
   "source": [
    "## Time Delta"
   ]
  },
  {
   "cell_type": "code",
   "execution_count": 18,
   "id": "8803d684-e9ac-4fc5-baac-b5e9c4bcec40",
   "metadata": {},
   "outputs": [],
   "source": [
    "#!/bin/python3\n",
    "\n",
    "import math\n",
    "import os\n",
    "import random\n",
    "import re\n",
    "import sys\n",
    "from datetime import datetime\n",
    "\n",
    "# Complete the time_delta function below.\n",
    "def time_delta(t1, t2):\n",
    "    # Parse the input time strings into timezone-aware datetime objects\n",
    "    z_1=datetime.strptime(t1,\"%a %d %b %Y %H:%M:%S %z\")\n",
    "    z_2=datetime.strptime(t2,\"%a %d %b %Y %H:%M:%S %z\")\n",
    "    # We calculate the absolute difference in seconds and return it in a form of string\n",
    "    return str(int(abs((z_1-z_2).total_seconds())))\n",
    "\n",
    "    t = int(input())\n",
    "    for t_itr in range(t):\n",
    "        t1 = input()\n",
    "        t2 = input()\n",
    "        delta = time_delta(t1, t2)\n",
    "        print(delta)\n"
   ]
  },
  {
   "cell_type": "markdown",
   "id": "7902b1eb-e190-4d7b-ab0f-259fb05b11e8",
   "metadata": {},
   "source": [
    "# Errors and Exceptions"
   ]
  },
  {
   "cell_type": "markdown",
   "id": "487c3d9b-fbf9-4b30-8b30-a2696eaa9de7",
   "metadata": {},
   "source": [
    "## Exceptions"
   ]
  },
  {
   "cell_type": "code",
   "execution_count": 6,
   "id": "674b1d38-4ef5-479a-82ba-f17f90cbe7b5",
   "metadata": {},
   "outputs": [
    {
     "name": "stdin",
     "output_type": "stream",
     "text": [
      " 3\n",
      " 1 0\n"
     ]
    },
    {
     "name": "stdout",
     "output_type": "stream",
     "text": [
      "Error Code: integer division or modulo by zero\n"
     ]
    },
    {
     "name": "stdin",
     "output_type": "stream",
     "text": [
      " 2 $\n"
     ]
    },
    {
     "name": "stdout",
     "output_type": "stream",
     "text": [
      "Error Code: invalid literal for int() with base 10: '$'\n"
     ]
    },
    {
     "name": "stdin",
     "output_type": "stream",
     "text": [
      " 3 1\n"
     ]
    },
    {
     "name": "stdout",
     "output_type": "stream",
     "text": [
      "3\n"
     ]
    }
   ],
   "source": [
    "T = int(input())\n",
    "for i in range(T):\n",
    "    try:\n",
    "        a, b = map(int, input().split())\n",
    "        print(a//b)\n",
    "    except ZeroDivisionError as e:\n",
    "        print(\"Error Code:\",e)\n",
    "    except ValueError as e:\n",
    "        print(\"Error Code:\",e)\n",
    "    "
   ]
  },
  {
   "cell_type": "markdown",
   "id": "49e193af-c1fd-4773-be3e-d9559a0b94c0",
   "metadata": {},
   "source": [
    "# Built-Ins"
   ]
  },
  {
   "cell_type": "markdown",
   "id": "aac2ffe3-cf3b-4085-9f71-d29ec3333fb7",
   "metadata": {},
   "source": [
    "## Zipped!"
   ]
  },
  {
   "cell_type": "code",
   "execution_count": 11,
   "id": "69eb7c8f-061a-47e0-8e05-72a5530fcacc",
   "metadata": {},
   "outputs": [
    {
     "name": "stdin",
     "output_type": "stream",
     "text": [
      " 5 3\n",
      " 89 90 78 93 80\n",
      " 90 91 85 88 86\n",
      " 91 92 83 89 90.5\n"
     ]
    },
    {
     "name": "stdout",
     "output_type": "stream",
     "text": [
      "90.0\n",
      "91.0\n",
      "82.0\n",
      "90.0\n",
      "85.5\n"
     ]
    }
   ],
   "source": [
    "n, x = map(int, input().split())\n",
    "grades = []\n",
    "for i in range(x):\n",
    "    grades.append(list(map(float, input().split())))\n",
    "\n",
    "zipl =list(zip(*grades))\n",
    " \n",
    "for j in range(n):\n",
    "    average = sum(list(zipl[j]))/x\n",
    "    print(average)\n"
   ]
  },
  {
   "cell_type": "markdown",
   "id": "70864fae-9e30-4fc2-a54d-229b0e37fb50",
   "metadata": {},
   "source": [
    "## Athlete Sort"
   ]
  },
  {
   "cell_type": "code",
   "execution_count": 14,
   "id": "2e6b3e38-b737-4069-83c4-07f2c0eec64e",
   "metadata": {},
   "outputs": [
    {
     "name": "stdin",
     "output_type": "stream",
     "text": [
      " 5 3\n",
      " 10 2 5\n",
      " 7 1 0\n",
      " 9 9 9\n",
      " 1 23 12\n",
      " 6 5 9\n",
      " 1\n"
     ]
    },
    {
     "name": "stdout",
     "output_type": "stream",
     "text": [
      "7 1 0\n",
      "10 2 5\n",
      "6 5 9\n",
      "9 9 9\n",
      "1 23 12\n"
     ]
    }
   ],
   "source": [
    "import math\n",
    "import os\n",
    "import random\n",
    "import re\n",
    "import sys\n",
    "\n",
    "\n",
    "\n",
    "if __name__ == '__main__':\n",
    "    nm = input().split()\n",
    "\n",
    "    n = int(nm[0])\n",
    "\n",
    "    m = int(nm[1])\n",
    "\n",
    "    arr = []\n",
    "\n",
    "    for _ in range(n):\n",
    "        arr.append(list(map(int, input().rstrip().split())))\n",
    "\n",
    "    k = int(input())\n",
    "# Sort arr based on the k-th element of each row and print the result\n",
    "for i in sorted(arr, key = lambda x : x[k]):\n",
    "    print(' '.join(str(y) for y in i))"
   ]
  },
  {
   "cell_type": "markdown",
   "id": "966d1530-7e43-49f7-b31f-6ef781f0d744",
   "metadata": {},
   "source": [
    "## ginortS"
   ]
  },
  {
   "cell_type": "code",
   "execution_count": 17,
   "id": "e6d3c7aa-dbaa-46e1-944f-1c7ab3ec5780",
   "metadata": {},
   "outputs": [
    {
     "name": "stdin",
     "output_type": "stream",
     "text": [
      " Sorting1234\n"
     ]
    },
    {
     "name": "stdout",
     "output_type": "stream",
     "text": [
      "ginortS1324\n"
     ]
    }
   ],
   "source": [
    "s = sorted(input())\n",
    "u=[]\n",
    "l=[]\n",
    "o=[]\n",
    "e=[]\n",
    "\n",
    "for i in s:\n",
    "    if i.isalpha():\n",
    "        if i.islower():\n",
    "            a=l\n",
    "        else:\n",
    "            a=u\n",
    "    else:\n",
    "        if int(i)%2:\n",
    "            a=o\n",
    "        else:\n",
    "            a=e\n",
    "    a.append(i)\n",
    "\n",
    "print(\"\".join(l+u+o+e))\n"
   ]
  },
  {
   "cell_type": "markdown",
   "id": "349487da-d130-4db2-89a5-e3cf9faffe42",
   "metadata": {},
   "source": [
    "# Python Functionals"
   ]
  },
  {
   "cell_type": "markdown",
   "id": "ce033887-8b2d-4614-aaf1-b8b673489322",
   "metadata": {},
   "source": [
    "## Map and Lambda Function"
   ]
  },
  {
   "cell_type": "code",
   "execution_count": 21,
   "id": "13f1a51c-e158-40a9-aa22-fb6f71f49fb0",
   "metadata": {},
   "outputs": [],
   "source": [
    "cube = lambda x: x**3 # complete the lambda function \n",
    "\n",
    "def fibonacci(n):\n",
    "    a = [0, 1]\n",
    "    if n == 0:\n",
    "        return []\n",
    "    if n == 1:\n",
    "        return [0]\n",
    "    for i in range(2, n):\n",
    "        nums = a[-1] + a[-2]\n",
    "        a.append(nums)\n",
    "    return a"
   ]
  },
  {
   "cell_type": "markdown",
   "id": "2023f4ab-0cfe-4c4d-9596-0db951747fda",
   "metadata": {},
   "source": [
    "# Regex and Parsing"
   ]
  },
  {
   "cell_type": "markdown",
   "id": "08f19026-48e1-4dcc-9cce-ab6a8c484d01",
   "metadata": {},
   "source": [
    "# Detect Floating Point Number"
   ]
  },
  {
   "cell_type": "code",
   "execution_count": 25,
   "id": "b0240563-c3db-4ebc-b27e-32fec4e562bc",
   "metadata": {},
   "outputs": [
    {
     "name": "stdin",
     "output_type": "stream",
     "text": [
      " 4\n",
      " 4.0O0\n"
     ]
    },
    {
     "name": "stdout",
     "output_type": "stream",
     "text": [
      "False\n"
     ]
    },
    {
     "name": "stdin",
     "output_type": "stream",
     "text": [
      " -1.00\n"
     ]
    },
    {
     "name": "stdout",
     "output_type": "stream",
     "text": [
      "True\n"
     ]
    },
    {
     "name": "stdin",
     "output_type": "stream",
     "text": [
      " +4.54\n"
     ]
    },
    {
     "name": "stdout",
     "output_type": "stream",
     "text": [
      "True\n"
     ]
    },
    {
     "name": "stdin",
     "output_type": "stream",
     "text": [
      " SomeRandomStuff\n"
     ]
    },
    {
     "name": "stdout",
     "output_type": "stream",
     "text": [
      "False\n"
     ]
    }
   ],
   "source": [
    "test = int(input())\n",
    "for i in range(test):\n",
    "    string = input()\n",
    "    flag = True\n",
    "    try:\n",
    "        float_string = float(string)\n",
    "        if string.count(\".\")==0:\n",
    "            flag = False\n",
    "    except:\n",
    "        flag = False\n",
    "    \n",
    "    print(flag)"
   ]
  },
  {
   "cell_type": "markdown",
   "id": "82a6a68a-60f3-4704-a207-bc678610d587",
   "metadata": {},
   "source": [
    "## Re.split()"
   ]
  },
  {
   "cell_type": "code",
   "execution_count": 28,
   "id": "6b3b9134-303d-4141-a9e7-710284ec48e4",
   "metadata": {},
   "outputs": [],
   "source": [
    "regex_pattern = r\"[.,]\""
   ]
  },
  {
   "cell_type": "markdown",
   "id": "fbf8b883-7074-469e-8784-44c7747b5b39",
   "metadata": {},
   "source": [
    "## Group(), Groups() & Groupdict()"
   ]
  },
  {
   "cell_type": "code",
   "execution_count": 31,
   "id": "eeebd300-1552-43cd-8449-e84960356f8e",
   "metadata": {},
   "outputs": [
    {
     "name": "stdin",
     "output_type": "stream",
     "text": [
      " 12345678910111213141516171820212223\n"
     ]
    },
    {
     "name": "stdout",
     "output_type": "stream",
     "text": [
      "1\n"
     ]
    }
   ],
   "source": [
    "import re\n",
    "s = input()\n",
    "# Search for the first occurrence of a repeating character using regex\n",
    "r = re.search(r'([a-zA-Z0-9])\\1', s)\n",
    "if r:\n",
    "    print(r.group(1))\n",
    "else:\n",
    "    print(-1)"
   ]
  },
  {
   "cell_type": "markdown",
   "id": "8c065f40-13a8-4649-884c-dde323306314",
   "metadata": {},
   "source": [
    "## Re.findall() & Re.finditer()"
   ]
  },
  {
   "cell_type": "code",
   "execution_count": 38,
   "id": "6b9cae5b-41d5-4828-a092-a49542e6096a",
   "metadata": {},
   "outputs": [
    {
     "name": "stdin",
     "output_type": "stream",
     "text": [
      " rabcdeefgyYhFjkIoomnpOeorteeeeet\n"
     ]
    },
    {
     "name": "stdout",
     "output_type": "stream",
     "text": [
      "ee\n",
      "Ioo\n",
      "Oeo\n",
      "eeeee\n"
     ]
    }
   ],
   "source": [
    "import re\n",
    "s = input()\n",
    "# We find all sequences of two or more consecutive vowels that are surrounded by consonants\n",
    "r = re.findall(r'(?<=[^aeiouAEIOU])[aeiouAEIOU]{2,}(?=[^aeiouAEIOU])',s)\n",
    "if r:\n",
    "    for i in r:\n",
    "        print(i)\n",
    "else:\n",
    "    print(-1)"
   ]
  },
  {
   "cell_type": "markdown",
   "id": "85210b41-9f7e-428d-be67-797bd292ef06",
   "metadata": {},
   "source": [
    "## Re.start() & Re.end()"
   ]
  },
  {
   "cell_type": "code",
   "execution_count": 41,
   "id": "9730bcb3-51d5-451e-9701-fb4a48128972",
   "metadata": {},
   "outputs": [
    {
     "name": "stdin",
     "output_type": "stream",
     "text": [
      " aaadaa\n",
      " aa\n"
     ]
    },
    {
     "name": "stdout",
     "output_type": "stream",
     "text": [
      "(0, 1)\n",
      "(1, 2)\n",
      "(4, 5)\n"
     ]
    }
   ],
   "source": [
    "import re\n",
    "s = input()\n",
    "k = input()\n",
    "\n",
    "def results(s, k):\n",
    "    # Use regex to find all occurrences of the substring k in the string s\n",
    "    same = re.finditer(fr'(?=({k}))', s)\n",
    "    # Create a list of tuples containing the start and end indices of each match\n",
    "    x = [(match.start(1), match.end(1)-1) for match in same]\n",
    "    return x if x else [(-1, -1)]\n",
    "\n",
    "\n",
    "if results(s, k):\n",
    "    for i in results(s, k):\n",
    "        print(i)\n",
    "else:\n",
    "    print((-1, -1))  "
   ]
  },
  {
   "cell_type": "markdown",
   "id": "38c73a55-872d-4d3f-9e13-b039c23d73b7",
   "metadata": {},
   "source": [
    "## Regex Substitution"
   ]
  },
  {
   "cell_type": "code",
   "execution_count": 44,
   "id": "03d54987-315f-4d74-b869-474c4de63d74",
   "metadata": {},
   "outputs": [
    {
     "name": "stdin",
     "output_type": "stream",
     "text": [
      " 11\n",
      " a = 1;\n"
     ]
    },
    {
     "name": "stdout",
     "output_type": "stream",
     "text": [
      "a = 1;\n"
     ]
    },
    {
     "name": "stdin",
     "output_type": "stream",
     "text": [
      " b = input();\n"
     ]
    },
    {
     "name": "stdout",
     "output_type": "stream",
     "text": [
      "b = input();\n"
     ]
    },
    {
     "name": "stdin",
     "output_type": "stream",
     "text": [
      " if a + b > 0 && a - b < 0:\n"
     ]
    },
    {
     "name": "stdout",
     "output_type": "stream",
     "text": [
      "if a + b > 0 and a - b < 0:\n"
     ]
    },
    {
     "name": "stdin",
     "output_type": "stream",
     "text": [
      " start()\n"
     ]
    },
    {
     "name": "stdout",
     "output_type": "stream",
     "text": [
      "start()\n"
     ]
    },
    {
     "name": "stdin",
     "output_type": "stream",
     "text": [
      " elif a*b > 10 || a/b < 1:\n"
     ]
    },
    {
     "name": "stdout",
     "output_type": "stream",
     "text": [
      "elif a*b > 10 or a/b < 1:\n"
     ]
    },
    {
     "name": "stdin",
     "output_type": "stream",
     "text": [
      " stop()\n"
     ]
    },
    {
     "name": "stdout",
     "output_type": "stream",
     "text": [
      "stop()\n"
     ]
    },
    {
     "name": "stdin",
     "output_type": "stream",
     "text": [
      " print set(list(a)) | set(list(b))\n"
     ]
    },
    {
     "name": "stdout",
     "output_type": "stream",
     "text": [
      "print set(list(a)) | set(list(b))\n"
     ]
    },
    {
     "name": "stdin",
     "output_type": "stream",
     "text": [
      " #Note do not change &&& or ||| or & or |\n"
     ]
    },
    {
     "name": "stdout",
     "output_type": "stream",
     "text": [
      "#Note do not change &&& or ||| or & or |\n"
     ]
    },
    {
     "name": "stdin",
     "output_type": "stream",
     "text": [
      " #Only change those '&&' which have space on both sides.\n"
     ]
    },
    {
     "name": "stdout",
     "output_type": "stream",
     "text": [
      "#Only change those '&&' which have space on both sides.\n"
     ]
    },
    {
     "name": "stdin",
     "output_type": "stream",
     "text": [
      " #Only change those '|| which have space on both sides.\n"
     ]
    },
    {
     "name": "stdout",
     "output_type": "stream",
     "text": [
      "#Only change those '|| which have space on both sides.\n"
     ]
    },
    {
     "name": "stdin",
     "output_type": "stream",
     "text": [
      " \n"
     ]
    },
    {
     "name": "stdout",
     "output_type": "stream",
     "text": [
      "\n"
     ]
    }
   ],
   "source": [
    "import re\n",
    "n = int(input())\n",
    "for i in range(n):\n",
    "  s = input()\n",
    "  s = re.sub(r\"(?<= )&&(?= )\", \"and\", s)\n",
    "  s = re.sub(r\"(?<= )\\|\\|(?= )\", \"or\", s)\n",
    "  print(s)"
   ]
  },
  {
   "cell_type": "markdown",
   "id": "287a2cc7-d1d8-4d5f-8f9f-953aba4fc90f",
   "metadata": {},
   "source": [
    "## Validating Roman Numerals"
   ]
  },
  {
   "cell_type": "code",
   "execution_count": 47,
   "id": "95a6e7a6-8db4-49b3-b147-1524754ccda8",
   "metadata": {},
   "outputs": [],
   "source": [
    "regex_pattern = r\"^M{0,3}(CM|CD|D?C{0,3})(XC|XL|L?X{0,3})(IX|IV|V?I{0,3})$\""
   ]
  },
  {
   "cell_type": "markdown",
   "id": "8303b303-353a-49be-a181-e55fcd74bcd8",
   "metadata": {},
   "source": [
    "## Validating phone numbers"
   ]
  },
  {
   "cell_type": "code",
   "execution_count": 50,
   "id": "367235c2-1ffc-4b41-b5a8-da0b35d795fe",
   "metadata": {},
   "outputs": [
    {
     "name": "stdin",
     "output_type": "stream",
     "text": [
      " 2\n",
      " 9587456281\n"
     ]
    },
    {
     "name": "stdout",
     "output_type": "stream",
     "text": [
      "YES\n"
     ]
    },
    {
     "name": "stdin",
     "output_type": "stream",
     "text": [
      " 1252478965\n"
     ]
    },
    {
     "name": "stdout",
     "output_type": "stream",
     "text": [
      "NO\n"
     ]
    }
   ],
   "source": [
    "import re\n",
    "n = int(input())\n",
    "for i in range(n):\n",
    "    s = input().strip()\n",
    "    if re.match(r'^[789]\\d{9}$', s):\n",
    "        print(\"YES\")\n",
    "    else:\n",
    "        print(\"NO\")"
   ]
  },
  {
   "cell_type": "markdown",
   "id": "3149905e-e569-4808-b7c7-e1ed71bcb3d1",
   "metadata": {},
   "source": [
    "## Validating and Parsing Email Addresses"
   ]
  },
  {
   "cell_type": "code",
   "execution_count": 53,
   "id": "6c43bea9-fcc0-49a4-bd10-0ad893b20e87",
   "metadata": {},
   "outputs": [
    {
     "name": "stdin",
     "output_type": "stream",
     "text": [
      " 2\n",
      " DEXTER <dexter@hotmail.com>\n"
     ]
    },
    {
     "name": "stdout",
     "output_type": "stream",
     "text": [
      "DEXTER <dexter@hotmail.com>\n"
     ]
    },
    {
     "name": "stdin",
     "output_type": "stream",
     "text": [
      " VIRUS <virus!@variable.:p>\n"
     ]
    }
   ],
   "source": [
    "import email.utils\n",
    "import re\n",
    "n= int(input())\n",
    "for i in range(n):\n",
    "    add = email.utils.parseaddr(input())\n",
    "    check = re.match(r'^[a-zA-Z][\\w._-]+@[a-zA-Z]+\\.[a-zA-Z]{1,3}$', add[1])\n",
    "    if check:\n",
    "        print(email.utils.formataddr(add))\n",
    "    "
   ]
  },
  {
   "cell_type": "markdown",
   "id": "754776e0-86c5-40a1-8a44-bc0de5a4747e",
   "metadata": {},
   "source": [
    "## Hex Color Code"
   ]
  },
  {
   "cell_type": "code",
   "execution_count": 56,
   "id": "43ac226a-ff38-4240-b2ee-f778b6e900be",
   "metadata": {},
   "outputs": [
    {
     "name": "stdin",
     "output_type": "stream",
     "text": [
      " 11\n",
      " #BED\n",
      " {\n",
      " color: #FfFdF8; background-color:#aef;\n"
     ]
    },
    {
     "name": "stdout",
     "output_type": "stream",
     "text": [
      "#FfFdF8\n",
      "#aef\n"
     ]
    },
    {
     "name": "stdin",
     "output_type": "stream",
     "text": [
      " font-size: 123px;\n",
      " \n",
      " }\n",
      " #Cab\n",
      " {\n",
      " background-color: #ABC;\n"
     ]
    },
    {
     "name": "stdout",
     "output_type": "stream",
     "text": [
      "#ABC\n"
     ]
    },
    {
     "name": "stdin",
     "output_type": "stream",
     "text": [
      " border: 2px dashed #fff;\n"
     ]
    },
    {
     "name": "stdout",
     "output_type": "stream",
     "text": [
      "#fff\n"
     ]
    },
    {
     "name": "stdin",
     "output_type": "stream",
     "text": [
      " }\n"
     ]
    }
   ],
   "source": [
    "import re\n",
    "n = int(input())\n",
    "for i in range(n):\n",
    "    CSS = input().strip()\n",
    "    a = re.findall(r\"(#[0-9a-fA-F]{3}|#[0-9a-fA-F]{6})(?=[;),])\", CSS)\n",
    "    if a :\n",
    "        print(*a, sep=\"\\n\")"
   ]
  },
  {
   "cell_type": "markdown",
   "id": "1d888b22-101c-4838-9e70-4d28ad197baa",
   "metadata": {},
   "source": [
    "## HTML Parser - Part 1"
   ]
  },
  {
   "cell_type": "code",
   "execution_count": 62,
   "id": "f6e37607-f566-4255-8e17-70c5266b265c",
   "metadata": {},
   "outputs": [
    {
     "name": "stdin",
     "output_type": "stream",
     "text": [
      " 2\n",
      " <html><head><title>HTML Parser - I</title></head>\n",
      " <body data-modal-target class='1'><h1>HackerRank</h1><br /></body></html>\n"
     ]
    },
    {
     "name": "stdout",
     "output_type": "stream",
     "text": [
      "Start : html\n",
      "Start : head\n",
      "Start : title\n",
      "End   : title\n",
      "End   : head\n",
      "Start : body\n",
      "-> data-modal-target > None\n",
      "-> class > 1\n",
      "Start : h1\n",
      "End   : h1\n",
      "Empty : br\n",
      "End   : body\n",
      "End   : html\n"
     ]
    }
   ],
   "source": [
    "from html.parser import HTMLParser\n",
    "    \n",
    "class MyHTMLParser(HTMLParser):\n",
    "    def handle_starttag(self, tag, attrs):\n",
    "        print(\"Start :\", tag)\n",
    "        self.print_tag_attrs(attrs=attrs)\n",
    "\n",
    "    def handle_endtag(self, tag):\n",
    "        print(\"End   :\", tag)\n",
    "\n",
    "    def handle_startendtag(self, tag, attrs):\n",
    "        print(\"Empty :\", tag)\n",
    "        self.print_tag_attrs(attrs=attrs)\n",
    "    \n",
    "    def print_tag_attrs(self, attrs):\n",
    "        [print(f\"-> {i[0]} > {i[1]}\") for i in attrs]\n",
    "\n",
    "parser = MyHTMLParser()\n",
    "parser.feed(''.join([input() for _ in range(int(input()))]))\n"
   ]
  },
  {
   "cell_type": "markdown",
   "id": "4c0d6cd2-170d-4356-935c-fe8c94ac9d56",
   "metadata": {},
   "source": [
    "## HTML Parser - Part 2"
   ]
  },
  {
   "cell_type": "code",
   "execution_count": 65,
   "id": "92650dd9-3c4a-48eb-93f4-917bf13cd70c",
   "metadata": {},
   "outputs": [],
   "source": [
    "from html.parser import HTMLParser\n",
    "\n",
    "class MyHTMLParser(HTMLParser):\n",
    "    def handle_comment(self, data):\n",
    "        if \"\\n\" not in data:\n",
    "            print(\">>> Single-line Comment\")\n",
    "        else:\n",
    "            print(\">>> Multi-line Comment\")\n",
    "        print(data)\n",
    "    def handle_data(self, data):\n",
    "        if i := data.rstrip():\n",
    "            print(\">>> Data\")\n",
    "            print(i)  "
   ]
  },
  {
   "cell_type": "markdown",
   "id": "7cfe231c-8eee-45bb-8c81-c4f9761ce56a",
   "metadata": {},
   "source": [
    "## Detect HTML Tags, Attributes and Attribute Values"
   ]
  },
  {
   "cell_type": "code",
   "execution_count": 68,
   "id": "bd0b702e-8c0a-4879-92bf-1d786b2934c8",
   "metadata": {},
   "outputs": [
    {
     "name": "stdin",
     "output_type": "stream",
     "text": [
      " 9\n",
      " <head>\n",
      " <title>HTML</title>\n",
      " </head>\n",
      " <object type=\"application/x-flash\"\n",
      " data=\"your-file.swf\"\n",
      " width=\"0\" height=\"0\">\n",
      " <!-- <param name=\"movie\" value=\"your-file.swf\" /> -->\n",
      " <param name=\"quality\" value=\"high\"/>\n",
      " </object>\n"
     ]
    },
    {
     "name": "stdout",
     "output_type": "stream",
     "text": [
      "head\n",
      "title\n",
      "object\n",
      "-> type > application/x-flash\n",
      "-> data > your-file.swf\n",
      "-> width > 0\n",
      "-> height > 0\n",
      "param\n",
      "-> name > quality\n",
      "-> value > high\n"
     ]
    }
   ],
   "source": [
    "from html.parser import HTMLParser\n",
    "\n",
    "class MyHTMLParser(HTMLParser):\n",
    "    def handle_starttag(self, tag, attrs):\n",
    "        print(tag)\n",
    "        if attrs:\n",
    "            [print(f'-> {x[0]} > {x[1]}') for x in attrs]\n",
    "    def handle_startendtag(self, tag, attrs):\n",
    "        print(tag)\n",
    "        if attrs:\n",
    "            [print(f'-> {y[0]} > {y[1]}') for y in attrs]  \n",
    "  \n",
    "html = \"\"       \n",
    "for i in range(int(input())):\n",
    "    html += input().rstrip()\n",
    "    html += '\\n'\n",
    "    \n",
    "parser = MyHTMLParser()\n",
    "parser.feed(html)\n",
    "parser.close()\n"
   ]
  },
  {
   "cell_type": "markdown",
   "id": "870ec2ff-f3dd-42e0-b19f-4dbbbd54305c",
   "metadata": {},
   "source": [
    "## Validating UID"
   ]
  },
  {
   "cell_type": "code",
   "execution_count": 71,
   "id": "b7a537a8-14f2-420e-a91c-e5ef92ca71e2",
   "metadata": {},
   "outputs": [
    {
     "name": "stdin",
     "output_type": "stream",
     "text": [
      " 2\n",
      " B1CD102354\n"
     ]
    },
    {
     "name": "stdout",
     "output_type": "stream",
     "text": [
      "Invalid\n"
     ]
    },
    {
     "name": "stdin",
     "output_type": "stream",
     "text": [
      " B1CDEF2354\n"
     ]
    },
    {
     "name": "stdout",
     "output_type": "stream",
     "text": [
      "Valid\n"
     ]
    }
   ],
   "source": [
    "import re\n",
    "check = r\"^(?=([A-Z]*[a-z\\d]){2})(?=([a-zA-Z]*[\\d]){3})(([a-zA-Z0-9])(?!.*\\4)){10}$\"\n",
    "t = int(input())\n",
    "for i in range(t):\n",
    "    uid = input()\n",
    "    x = re.match(check, uid)\n",
    "    if x:\n",
    "        print(\"Valid\")\n",
    "    else:\n",
    "        print(\"Invalid\")"
   ]
  },
  {
   "cell_type": "markdown",
   "id": "29e79dce-b863-44f5-9477-7aeb0daad5d0",
   "metadata": {},
   "source": [
    "## Validating Credit Card Numbers"
   ]
  },
  {
   "cell_type": "code",
   "execution_count": 74,
   "id": "0c6ad4aa-8391-44aa-b531-a0d2fc943316",
   "metadata": {},
   "outputs": [
    {
     "name": "stdin",
     "output_type": "stream",
     "text": [
      " 6\n",
      " 4123456789123456\n"
     ]
    },
    {
     "name": "stdout",
     "output_type": "stream",
     "text": [
      "Valid\n"
     ]
    },
    {
     "name": "stdin",
     "output_type": "stream",
     "text": [
      " 5123-4567-8912-3456\n"
     ]
    },
    {
     "name": "stdout",
     "output_type": "stream",
     "text": [
      "Valid\n"
     ]
    },
    {
     "name": "stdin",
     "output_type": "stream",
     "text": [
      " 61234-567-8912-3456\n"
     ]
    },
    {
     "name": "stdout",
     "output_type": "stream",
     "text": [
      "Invalid\n"
     ]
    },
    {
     "name": "stdin",
     "output_type": "stream",
     "text": [
      " 4123356789123456\n"
     ]
    },
    {
     "name": "stdout",
     "output_type": "stream",
     "text": [
      "Valid\n"
     ]
    },
    {
     "name": "stdin",
     "output_type": "stream",
     "text": [
      " 5133-3367-8912-3456\n"
     ]
    },
    {
     "name": "stdout",
     "output_type": "stream",
     "text": [
      "Invalid\n"
     ]
    },
    {
     "name": "stdin",
     "output_type": "stream",
     "text": [
      " 5123 - 3567 - 8912 - 3456\n"
     ]
    },
    {
     "name": "stdout",
     "output_type": "stream",
     "text": [
      "Invalid\n"
     ]
    }
   ],
   "source": [
    "import re\n",
    "n = int(input())\n",
    "check = r\"(?=[456]\\d{3}(-?\\d{4}){3}$)(?!.*(.)-?(\\2-?){3})\"\n",
    "for i in range(n):\n",
    "    cr = input()\n",
    "    x = re.match(check, cr)\n",
    "    if x:\n",
    "        print(\"Valid\")\n",
    "    else:\n",
    "        print(\"Invalid\")\n",
    "    "
   ]
  },
  {
   "cell_type": "markdown",
   "id": "9439f5b3-190d-46b5-bfd3-cf545b29d7e3",
   "metadata": {},
   "source": [
    "## Validating Postal Codes"
   ]
  },
  {
   "cell_type": "code",
   "execution_count": 77,
   "id": "3f3f6656-4d40-458e-ae43-936f6788df33",
   "metadata": {},
   "outputs": [],
   "source": [
    "regex_integer_in_range = r\"^([1-9][0-9]{5})$\"\t# Do not delete 'r'.\n",
    "regex_alternating_repetitive_digit_pair = r\"(?=(.)(.)(\\1))\"\t# Do not delete 'r'."
   ]
  },
  {
   "cell_type": "markdown",
   "id": "d3064c90-ebce-4b7c-a2a9-b9157ff2726a",
   "metadata": {},
   "source": [
    "## Matrix Script"
   ]
  },
  {
   "cell_type": "code",
   "execution_count": 20,
   "id": "a8c5ed09-3b55-443e-a9a3-3fcafc15f701",
   "metadata": {},
   "outputs": [
    {
     "name": "stdin",
     "output_type": "stream",
     "text": [
      " 7 3\n",
      " Tsi\n",
      " h%x\n",
      " i #\n",
      " sM \n",
      " $a \n",
      " #t%\n",
      " ir!\n"
     ]
    },
    {
     "name": "stdout",
     "output_type": "stream",
     "text": [
      "This is Matrix#  %!\n"
     ]
    }
   ],
   "source": [
    "import math\n",
    "import os\n",
    "import random\n",
    "import re\n",
    "import sys\n",
    "\n",
    "\n",
    "\n",
    "\n",
    "first_multiple_input = input().rstrip().split()\n",
    "\n",
    "n = int(first_multiple_input[0])\n",
    "\n",
    "m = int(first_multiple_input[1])\n",
    "\n",
    "matrix = []\n",
    "\n",
    "for _ in range(n):\n",
    "    matrix_item = input()\n",
    "    matrix.append(matrix_item)\n",
    "\n",
    "de = \"\"\n",
    "for i in range(m):\n",
    "    for j in range(n):\n",
    "        de += matrix[j][i]\n",
    "     \n",
    "\n",
    "print(re.sub(r\"(?<=[A-Za-z0-9])[^A-Za-z0-9]+(?=[A-Za-z0-9])\", \" \", de))        \n",
    "        "
   ]
  },
  {
   "cell_type": "markdown",
   "id": "59b078c3-7724-46be-b859-4c3f0b17a7d3",
   "metadata": {},
   "source": [
    "# XML"
   ]
  },
  {
   "cell_type": "markdown",
   "id": "dfb09d52-71ef-4962-87ea-8459dfb10e0f",
   "metadata": {},
   "source": [
    "## XML 1 - Find the Score"
   ]
  },
  {
   "cell_type": "code",
   "execution_count": 3,
   "id": "1e55fdb9-290d-4826-80f8-365297ab793c",
   "metadata": {},
   "outputs": [],
   "source": [
    "def get_attr_number(node):\n",
    "    counter = 0\n",
    "    for i in node.iter():\n",
    "        sc = len(i.attrib)\n",
    "        counter += sc\n",
    "    return counter"
   ]
  },
  {
   "cell_type": "markdown",
   "id": "bf2d3275-e469-4c25-9efc-dbe6c4cae92c",
   "metadata": {},
   "source": [
    "## XML2 - Find the Maximum Depth"
   ]
  },
  {
   "cell_type": "code",
   "execution_count": 6,
   "id": "1a34fa8a-25bb-4be7-8ae4-31681b792b60",
   "metadata": {},
   "outputs": [],
   "source": [
    "maxdepth = 0\n",
    "def depth(elem, level):\n",
    "    global maxdepth\n",
    "    level += 1\n",
    "    if level > maxdepth:\n",
    "        maxdepth = level\n",
    "    for i in elem:\n",
    "        depth(i, level)\n",
    "    return maxdepth"
   ]
  },
  {
   "cell_type": "markdown",
   "id": "4eed2035-943a-40f3-8308-c22f0be9d477",
   "metadata": {},
   "source": [
    "# Closures and Decorators"
   ]
  },
  {
   "cell_type": "markdown",
   "id": "3845528b-ce37-4776-8107-fb7bc62215bd",
   "metadata": {},
   "source": [
    "# Standardize Mobile Number Using Decorators "
   ]
  },
  {
   "cell_type": "code",
   "execution_count": 10,
   "id": "570b0eab-6964-4f71-9f9c-e4af5f630c54",
   "metadata": {},
   "outputs": [],
   "source": [
    "def wrapper(f):\n",
    "    def fun(l):\n",
    "        for i in range(len(l)):\n",
    "            l[i] = \"+91 \" + l[i][-10:-5] + \" \" + l[i][-5:]\n",
    "        f(l)\n",
    "        \n",
    "    return fun"
   ]
  },
  {
   "cell_type": "markdown",
   "id": "4893c040-e617-4045-adb6-8d1948fb6ee3",
   "metadata": {},
   "source": [
    "## Decorators 2 - Name Directory "
   ]
  },
  {
   "cell_type": "code",
   "execution_count": 13,
   "id": "4806cda1-4afd-4261-b66b-f8bc3100b8c3",
   "metadata": {},
   "outputs": [],
   "source": [
    "def person_lister(f):\n",
    "    def inner(people):\n",
    "        return map(f, sorted(people, key=lambda x: int(x[2])))\n",
    "    return inner"
   ]
  },
  {
   "cell_type": "markdown",
   "id": "4a2b17ed-4852-4abb-9289-7710a9e84e8e",
   "metadata": {},
   "source": [
    "# Nympy"
   ]
  },
  {
   "cell_type": "markdown",
   "id": "8eb3777a-3fff-45b2-aaff-3894e030492a",
   "metadata": {},
   "source": [
    "## Arrays"
   ]
  },
  {
   "cell_type": "code",
   "execution_count": 17,
   "id": "70fbeeb4-0a05-4a11-a7dc-537e93ae301b",
   "metadata": {},
   "outputs": [],
   "source": [
    "def arrays(arr):\n",
    "    a = numpy.array(arr, float)\n",
    "    return(a[::-1])"
   ]
  },
  {
   "cell_type": "markdown",
   "id": "753ae924-6c56-42b3-adfd-b4cad38969fe",
   "metadata": {},
   "source": [
    "## Shape and Reshape "
   ]
  },
  {
   "cell_type": "code",
   "execution_count": 20,
   "id": "45acca0b-b908-4fff-a7fa-a3d5bcfd5e01",
   "metadata": {},
   "outputs": [
    {
     "name": "stdin",
     "output_type": "stream",
     "text": [
      " 1 2 3 4 5 6 7 8 9\n"
     ]
    },
    {
     "name": "stdout",
     "output_type": "stream",
     "text": [
      "[[1 2 3]\n",
      " [4 5 6]\n",
      " [7 8 9]]\n"
     ]
    }
   ],
   "source": [
    "import numpy\n",
    "\n",
    "\n",
    "\n",
    "l = list(map(int, input().split()))\n",
    "\n",
    "my_array = numpy.array(l)\n",
    "print(numpy.reshape(my_array, (3,3)))"
   ]
  },
  {
   "cell_type": "markdown",
   "id": "60cbd960-1cd1-4126-a4b5-289736f14a2b",
   "metadata": {},
   "source": [
    "## Transpose and Flatten"
   ]
  },
  {
   "cell_type": "code",
   "execution_count": 23,
   "id": "65da0c72-3201-4233-888f-2dce24828806",
   "metadata": {},
   "outputs": [
    {
     "name": "stdin",
     "output_type": "stream",
     "text": [
      " 2 2\n",
      " 1 2\n",
      " 3 4\n"
     ]
    },
    {
     "name": "stdout",
     "output_type": "stream",
     "text": [
      "[[1 3]\n",
      " [2 4]]\n",
      "[1 2 3 4]\n"
     ]
    }
   ],
   "source": [
    "import numpy\n",
    "\n",
    "n_r, m_c = map(int, input().split())\n",
    "arr = numpy.array([input().split() for i in range(n_r)], int)\n",
    "print(numpy.transpose(arr))\n",
    "print(arr.flatten())"
   ]
  },
  {
   "cell_type": "markdown",
   "id": "30817d01-44ae-44ea-8405-9d04dfef119a",
   "metadata": {},
   "source": [
    "## Concatenate"
   ]
  },
  {
   "cell_type": "code",
   "execution_count": 28,
   "id": "0761af2d-e3b2-4b40-b1ac-5b44dd761830",
   "metadata": {},
   "outputs": [
    {
     "name": "stdin",
     "output_type": "stream",
     "text": [
      " 4 3 2\n",
      "  1 2\n",
      " 1 2\n",
      " 1 2\n",
      " 1 2\n",
      " 3 4\n",
      " 3 4\n",
      " 3 4\n"
     ]
    },
    {
     "name": "stdout",
     "output_type": "stream",
     "text": [
      "[[1 2]\n",
      " [1 2]\n",
      " [1 2]\n",
      " [1 2]\n",
      " [3 4]\n",
      " [3 4]\n",
      " [3 4]]\n"
     ]
    }
   ],
   "source": [
    "import numpy \n",
    "\n",
    "n_r, m_r, p_r = map(int, input().split())\n",
    "\n",
    "arr_1 = numpy.array([[a for a in input().split()] for i in range(m_r)], int)\n",
    "arr_2 = numpy.array([[b for b in input().split()] for i in range(n_r)], int)\n",
    "con = numpy.concatenate((arr_1, arr_2), axis = 0)\n",
    "print(con)"
   ]
  },
  {
   "cell_type": "markdown",
   "id": "cd3a33ee-3fee-43c1-9de0-ecc9a6741b49",
   "metadata": {},
   "source": [
    "## Zeros and Ones"
   ]
  },
  {
   "cell_type": "code",
   "execution_count": 31,
   "id": "e1cdfa43-4943-4ef3-a29c-ce7fac1b032b",
   "metadata": {},
   "outputs": [
    {
     "name": "stdin",
     "output_type": "stream",
     "text": [
      " 3 3 3\n"
     ]
    },
    {
     "name": "stdout",
     "output_type": "stream",
     "text": [
      "[[[0 0 0]\n",
      "  [0 0 0]\n",
      "  [0 0 0]]\n",
      "\n",
      " [[0 0 0]\n",
      "  [0 0 0]\n",
      "  [0 0 0]]\n",
      "\n",
      " [[0 0 0]\n",
      "  [0 0 0]\n",
      "  [0 0 0]]]\n",
      "[[[1 1 1]\n",
      "  [1 1 1]\n",
      "  [1 1 1]]\n",
      "\n",
      " [[1 1 1]\n",
      "  [1 1 1]\n",
      "  [1 1 1]]\n",
      "\n",
      " [[1 1 1]\n",
      "  [1 1 1]\n",
      "  [1 1 1]]]\n"
     ]
    }
   ],
   "source": [
    "import numpy as np\n",
    "\n",
    "n = list(map(int, input().split()))\n",
    "print(np.zeros(n, dtype = int))\n",
    "print(np.ones(n, dtype = int))"
   ]
  },
  {
   "cell_type": "markdown",
   "id": "466442c8-f038-4df6-9306-30ea6af9cf2d",
   "metadata": {},
   "source": [
    "## Eye and Identity"
   ]
  },
  {
   "cell_type": "code",
   "execution_count": 34,
   "id": "369dee3e-1802-4595-8f1c-abad604e3e22",
   "metadata": {},
   "outputs": [
    {
     "name": "stdin",
     "output_type": "stream",
     "text": [
      " 3 3\n"
     ]
    },
    {
     "name": "stdout",
     "output_type": "stream",
     "text": [
      "[[ 1.  0.  0.]\n",
      " [ 0.  1.  0.]\n",
      " [ 0.  0.  1.]]\n"
     ]
    }
   ],
   "source": [
    "import numpy \n",
    "numpy.set_printoptions(legacy='1.13')\n",
    "\n",
    "n_r, m_c = map(int,input().split())\n",
    "print(numpy.eye(n_r, m_c, k=0))"
   ]
  },
  {
   "cell_type": "markdown",
   "id": "07984092-4333-4091-8cf5-508b1909d211",
   "metadata": {},
   "source": [
    "## Array Mathematics"
   ]
  },
  {
   "cell_type": "code",
   "execution_count": 37,
   "id": "89e96e4c-23c1-4573-83c5-a4262af936b2",
   "metadata": {},
   "outputs": [
    {
     "name": "stdin",
     "output_type": "stream",
     "text": [
      " 1 4\n",
      " 1 2 3 4\n",
      " 5 6 7 8\n"
     ]
    },
    {
     "name": "stdout",
     "output_type": "stream",
     "text": [
      "[[ 6  8 10 12]]\n",
      "[[-4 -4 -4 -4]]\n",
      "[[ 5 12 21 32]]\n",
      "[[0 0 0 0]]\n",
      "[[1 2 3 4]]\n",
      "[[    1    64  2187 65536]]\n"
     ]
    }
   ],
   "source": [
    "import numpy\n",
    "\n",
    "\n",
    "n, m = map(int, input().split())\n",
    "A = numpy.array([[j for j in input().split()] for i in range(n)], int)\n",
    "B = numpy.array([[j for j in input().split()] for i in range(n)], int)\n",
    "print(numpy.add(A,B))\n",
    "print(numpy.subtract(A,B))\n",
    "print(numpy.multiply(A,B))\n",
    "print(numpy.floor_divide(A,B))\n",
    "print(numpy.mod(A,B))\n",
    "print(numpy.power(A,B))"
   ]
  },
  {
   "cell_type": "markdown",
   "id": "467261b8-d87c-4f39-9433-07212b2557f3",
   "metadata": {},
   "source": [
    "## Floor, Ceil and Rint"
   ]
  },
  {
   "cell_type": "code",
   "execution_count": 40,
   "id": "2c5659bf-4517-4eb0-86e7-5c02a83cf8bd",
   "metadata": {},
   "outputs": [
    {
     "name": "stdin",
     "output_type": "stream",
     "text": [
      " 1.1 2.2 3.3 4.4 5.5 6.6 7.7 8.8 9.9\n"
     ]
    },
    {
     "name": "stdout",
     "output_type": "stream",
     "text": [
      "[ 1.  2.  3.  4.  5.  6.  7.  8.  9.]\n",
      "[  2.   3.   4.   5.   6.   7.   8.   9.  10.]\n",
      "[  1.   2.   3.   4.   6.   7.   8.   9.  10.]\n"
     ]
    }
   ],
   "source": [
    "import numpy\n",
    "numpy.set_printoptions(legacy=\"1.13\")\n",
    "\n",
    "A = numpy.array(list(map(float, input().split())))\n",
    "print(numpy.floor(A))\n",
    "print(numpy.ceil(A))\n",
    "print(numpy.rint(A))\n"
   ]
  },
  {
   "cell_type": "markdown",
   "id": "9b8669dd-d840-4468-82ce-f0b84310ff60",
   "metadata": {},
   "source": [
    "## Sum and Prod"
   ]
  },
  {
   "cell_type": "code",
   "execution_count": 43,
   "id": "7201487e-2a78-4390-b1d9-bfccf09be93d",
   "metadata": {},
   "outputs": [
    {
     "name": "stdin",
     "output_type": "stream",
     "text": [
      " 2 2\n",
      " 1 2\n",
      " 3 4\n"
     ]
    },
    {
     "name": "stdout",
     "output_type": "stream",
     "text": [
      "24\n"
     ]
    }
   ],
   "source": [
    "import numpy\n",
    "\n",
    "n, m = map(int, input().split())\n",
    "arr = numpy.array([list(map(int, input().split())) for i in range(n)])\n",
    "sm = numpy.sum(arr, axis=0)\n",
    "pr = numpy.prod(sm)\n",
    "print(pr)"
   ]
  },
  {
   "cell_type": "markdown",
   "id": "a04bc88a-77af-4b55-84d5-fce941afe799",
   "metadata": {},
   "source": [
    "## Min and Max"
   ]
  },
  {
   "cell_type": "code",
   "execution_count": 46,
   "id": "8eb9d77c-b6b1-43aa-a212-9ae699b5e180",
   "metadata": {},
   "outputs": [
    {
     "name": "stdin",
     "output_type": "stream",
     "text": [
      " 4 2\n",
      " 2 5\n",
      " 3 7\n",
      " 1 3\n",
      " 4 0\n"
     ]
    },
    {
     "name": "stdout",
     "output_type": "stream",
     "text": [
      "3\n"
     ]
    }
   ],
   "source": [
    "import numpy\n",
    "\n",
    "n, m = map(int, input().split())\n",
    "arr = numpy.array([list(map(int, input().split()))for i in range(n)])\n",
    "mn = numpy.min(arr, axis=1)\n",
    "print(numpy.max(mn))"
   ]
  },
  {
   "cell_type": "markdown",
   "id": "6f5c384e-8249-421d-822e-4fb760a79dab",
   "metadata": {},
   "source": [
    "## Mean, Var, and Std"
   ]
  },
  {
   "cell_type": "code",
   "execution_count": 50,
   "id": "41dd9a53-3cb8-4015-802b-0fe9f11d46f9",
   "metadata": {},
   "outputs": [
    {
     "name": "stdin",
     "output_type": "stream",
     "text": [
      " 2 2\n",
      " 1 2\n",
      " 3 4\n"
     ]
    },
    {
     "name": "stdout",
     "output_type": "stream",
     "text": [
      "[ 1.5  3.5]\n",
      "[ 1.  1.]\n",
      "1.11803398875\n"
     ]
    }
   ],
   "source": [
    "import numpy\n",
    "\n",
    "n, m = map(int, input().split())\n",
    "arr = numpy.array([list(map(int, input().split()))for i in range(n)])\n",
    "print(numpy.mean(arr, axis=1))\n",
    "print(numpy.var(arr, axis=0))\n",
    "print(round(numpy.std(arr), 11)) # untile the 11th digit"
   ]
  },
  {
   "cell_type": "markdown",
   "id": "b605adbc-d9bc-49f2-a060-04596d95cc7c",
   "metadata": {},
   "source": [
    "## Dot and Cross"
   ]
  },
  {
   "cell_type": "code",
   "execution_count": 53,
   "id": "76daa3e7-9dec-4e94-ae35-0ead5f3bc2d2",
   "metadata": {},
   "outputs": [
    {
     "name": "stdin",
     "output_type": "stream",
     "text": [
      " 2\n",
      " 1 2\n",
      " 3 4\n",
      " 1 2\n",
      " 3 4\n"
     ]
    },
    {
     "name": "stdout",
     "output_type": "stream",
     "text": [
      "[[ 7 10]\n",
      " [15 22]]\n"
     ]
    }
   ],
   "source": [
    "import numpy\n",
    "\n",
    "n = int(input())\n",
    "arr_A = numpy.array([list(map(int, input().split()))for i in range(n)])\n",
    "arr_B = numpy.array([list(map(int, input().split()))for i in range(n)])\n",
    "print(numpy.dot(arr_A, arr_B))"
   ]
  },
  {
   "cell_type": "markdown",
   "id": "68e867f9-85fb-48cc-8cb9-9eba833c53fe",
   "metadata": {},
   "source": [
    "## Inner and Outer"
   ]
  },
  {
   "cell_type": "code",
   "execution_count": 56,
   "id": "c342e9cf-1dbb-4670-b2b5-45c3adec783e",
   "metadata": {},
   "outputs": [
    {
     "name": "stdin",
     "output_type": "stream",
     "text": [
      " 0 1\n",
      " 2 3\n"
     ]
    },
    {
     "name": "stdout",
     "output_type": "stream",
     "text": [
      "3\n",
      "[[0 0]\n",
      " [2 3]]\n"
     ]
    }
   ],
   "source": [
    "import numpy\n",
    "\n",
    "A = numpy.array(list(map(int, input().split())))\n",
    "B = numpy.array(list(map(int, input().split())))\n",
    "print(numpy.inner(A, B))\n",
    "print(numpy.outer(A, B))"
   ]
  },
  {
   "cell_type": "markdown",
   "id": "ed8401ac-7b55-45ff-94c3-7d467723f21b",
   "metadata": {},
   "source": [
    "## Polynomials"
   ]
  },
  {
   "cell_type": "code",
   "execution_count": 59,
   "id": "ef7c0cf7-aa41-4533-94a2-42c915b627fe",
   "metadata": {},
   "outputs": [
    {
     "name": "stdin",
     "output_type": "stream",
     "text": [
      " 1.1 2 3\n",
      " 0\n"
     ]
    },
    {
     "name": "stdout",
     "output_type": "stream",
     "text": [
      "3.0\n"
     ]
    }
   ],
   "source": [
    "import numpy\n",
    "\n",
    "p = list(map(float,input().split()))\n",
    "x = int(input())\n",
    "arr = numpy.polyval(p,x)\n",
    "print(arr)"
   ]
  },
  {
   "cell_type": "markdown",
   "id": "b45cb52f-5f5e-4de3-bd50-7ff658d4da6f",
   "metadata": {},
   "source": [
    "## Linear Algebra"
   ]
  },
  {
   "cell_type": "code",
   "execution_count": 62,
   "id": "18875cc5-abc4-4f2b-a1f3-94beb940c553",
   "metadata": {},
   "outputs": [
    {
     "name": "stdin",
     "output_type": "stream",
     "text": [
      " 2\n",
      " 1.1 1.1\n",
      " 1.1 1.1\n"
     ]
    },
    {
     "name": "stdout",
     "output_type": "stream",
     "text": [
      "0.0\n"
     ]
    }
   ],
   "source": [
    "import numpy\n",
    "\n",
    "n = int(input())\n",
    "arr = numpy.array([list(map(float, input().split()))for i in range(n)])\n",
    "print(round(numpy.linalg.det(arr), 2)) # until the second digit"
   ]
  },
  {
   "cell_type": "markdown",
   "id": "0c866726-5d91-4b32-88ba-ca77f205f981",
   "metadata": {},
   "source": [
    "# Challenges"
   ]
  },
  {
   "cell_type": "markdown",
   "id": "ea6f5964-501f-451b-b62e-df24ff095208",
   "metadata": {},
   "source": [
    "## Birthday Cake Candles"
   ]
  },
  {
   "cell_type": "code",
   "execution_count": 22,
   "id": "047146b8-d0e6-41f4-b85f-a4d83f46ff34",
   "metadata": {},
   "outputs": [],
   "source": [
    "import math\n",
    "import os\n",
    "import random\n",
    "import re\n",
    "import sys\n",
    "\n",
    "\n",
    "#\n",
    "# Complete the 'birthdayCakeCandles' function below.\n",
    "#\n",
    "# The function is expected to return an INTEGER.\n",
    "# The function accepts INTEGER_ARRAY candles as parameter.\n",
    "#\n",
    "\n",
    "def birthdayCakeCandles(candles):\n",
    "    total = candles.count(max(candles))\n",
    "    return total\n",
    "\n",
    "    candles_count = int(input().strip())\n",
    "\n",
    "    candles = list(map(int, input().rstrip().split()))\n",
    "\n",
    "    result = birthdayCakeCandles(candles)\n",
    "\n",
    "    print(result)\n",
    "\n"
   ]
  },
  {
   "cell_type": "markdown",
   "id": "490f736b-1b27-45e8-8de7-cf3a2f643374",
   "metadata": {},
   "source": [
    "## Number Line Jumps"
   ]
  },
  {
   "cell_type": "code",
   "execution_count": 24,
   "id": "622ba19e-a6af-4e15-b502-b8b36f571f2e",
   "metadata": {},
   "outputs": [],
   "source": [
    "import math\n",
    "import os\n",
    "import random\n",
    "import re\n",
    "import sys\n",
    "\n",
    "#\n",
    "# Complete the 'kangaroo' function below.\n",
    "#\n",
    "# The function is expected to return a STRING.\n",
    "# The function accepts following parameters:\n",
    "#  1. INTEGER x1\n",
    "#  2. INTEGER v1\n",
    "#  3. INTEGER x2\n",
    "#  4. INTEGER v2\n",
    "#\n",
    "\n",
    "def kangaroo(x1, v1, x2, v2):\n",
    "    if (v1 - v2) == 0:\n",
    "        return \"NO\"\n",
    "    elif (x2-x1) / (v1 - v2) > 0 and ((x2-x1) / (v1 - v2)).is_integer():\n",
    "        return \"YES\"\n",
    "    else:\n",
    "        return \"NO\"\n",
    "\n",
    "    first_multiple_input = input().rstrip().split()\n",
    "\n",
    "    x1 = int(first_multiple_input[0])\n",
    "\n",
    "    v1 = int(first_multiple_input[1])\n",
    "\n",
    "    x2 = int(first_multiple_input[2])\n",
    "\n",
    "    v2 = int(first_multiple_input[3])\n",
    "\n",
    "    result = kangaroo(x1, v1, x2, v2)\n",
    "\n",
    "    print(result)\n"
   ]
  },
  {
   "cell_type": "markdown",
   "id": "79702589-45ed-492b-b218-de44052eeba8",
   "metadata": {},
   "source": [
    "## Viral Advertising"
   ]
  },
  {
   "cell_type": "code",
   "execution_count": 26,
   "id": "85cf0a37-1273-4cda-836d-10509dfe8ec5",
   "metadata": {},
   "outputs": [],
   "source": [
    "import math\n",
    "import os\n",
    "import random\n",
    "import re\n",
    "import sys\n",
    "\n",
    "#\n",
    "# Complete the 'viralAdvertising' function below.\n",
    "#\n",
    "# The function is expected to return an INTEGER.\n",
    "# The function accepts INTEGER n as parameter.\n",
    "#\n",
    "\n",
    "def viralAdvertising(n):\n",
    "    cumulative = 0\n",
    "    liked = 5//2\n",
    "    \n",
    "    for i in range(n):\n",
    "        cumulative += liked\n",
    "        liked = (liked*3)//2\n",
    "    \n",
    "    return cumulative\n",
    "\n",
    "    n = int(input().strip())\n",
    "\n",
    "    result = viralAdvertising(n)\n",
    "    print(result)\n",
    "\n"
   ]
  },
  {
   "cell_type": "markdown",
   "id": "27cb05e4-3f41-48c3-9d1b-413b88aa1820",
   "metadata": {},
   "source": [
    "## Recursive Digit Sum"
   ]
  },
  {
   "cell_type": "code",
   "execution_count": 31,
   "id": "9d652496-234c-4e89-b7a7-081b286c8eaa",
   "metadata": {},
   "outputs": [],
   "source": [
    "import math\n",
    "import os\n",
    "import random\n",
    "import re\n",
    "import sys\n",
    "\n",
    "#\n",
    "# Complete the 'superDigit' function below.\n",
    "#\n",
    "# The function is expected to return an INTEGER.\n",
    "# The function accepts following parameters:\n",
    "#  1. STRING n\n",
    "#  2. INTEGER k\n",
    "#\n",
    "\n",
    "def superDigit(n, k):\n",
    "    total = 0\n",
    "    if len(n) <= 1:\n",
    "        return n\n",
    "    else:\n",
    "        total = k*sum([int(i) for i in n])\n",
    "        return superDigit(str(total), 1)\n",
    "\n",
    "    first_multiple_input = input().rstrip().split()\n",
    "\n",
    "    n = first_multiple_input[0]\n",
    "\n",
    "    k = int(first_multiple_input[1])\n",
    "\n",
    "    result = superDigit(n, k)\n",
    "\n",
    "    print(result)\n"
   ]
  },
  {
   "cell_type": "markdown",
   "id": "e3bf4e02-982b-40f5-9325-d53618d7a6bb",
   "metadata": {},
   "source": [
    "## Insertion Sort - Part 1"
   ]
  },
  {
   "cell_type": "code",
   "execution_count": 13,
   "id": "a607dff7-44c7-4469-a004-2ba6fd1c35df",
   "metadata": {},
   "outputs": [
    {
     "name": "stdin",
     "output_type": "stream",
     "text": [
      " 5\n",
      " 2 4 6 8 3\n"
     ]
    },
    {
     "name": "stdout",
     "output_type": "stream",
     "text": [
      "2 4 6 8 8\n",
      "2 4 6 6 8\n",
      "2 4 4 6 8\n",
      "2 3 4 6 8\n"
     ]
    }
   ],
   "source": [
    "import math\n",
    "import os\n",
    "import random\n",
    "import re\n",
    "import sys\n",
    "\n",
    "#\n",
    "# Complete the 'insertionSort1' function below.\n",
    "#\n",
    "# The function accepts following parameters:\n",
    "#  1. INTEGER n\n",
    "#  2. INTEGER_ARRAY arr\n",
    "#\n",
    "\n",
    "def insertionSort1(n, arr):\n",
    "    value = arr[-1]\n",
    "    i = n - 2\n",
    "    while i >= 0 and arr[i] > value:\n",
    "        arr[i + 1] = arr[i]\n",
    "        print(*arr)\n",
    "        i -= 1\n",
    "        \n",
    "    arr[i + 1] = value\n",
    "    print(*arr)\n",
    "            \n",
    "        \n",
    "\n",
    "if __name__ == '__main__':\n",
    "    n = int(input().strip())\n",
    "\n",
    "    arr = list(map(int, input().rstrip().split()))\n",
    "\n",
    "    insertionSort1(n, arr)\n"
   ]
  },
  {
   "cell_type": "markdown",
   "id": "24289feb-fc90-4f0d-91d8-2909dd82b42a",
   "metadata": {},
   "source": [
    "## Insertion Sort - Part 2"
   ]
  },
  {
   "cell_type": "code",
   "execution_count": 16,
   "id": "6e054e34-7acb-4b42-a7f0-56ada86ee4fc",
   "metadata": {},
   "outputs": [
    {
     "name": "stdin",
     "output_type": "stream",
     "text": [
      " 6\n",
      " 1 4 3 5 6 2\n"
     ]
    },
    {
     "name": "stdout",
     "output_type": "stream",
     "text": [
      "1 4 3 5 6 2\n",
      "1 3 4 5 6 2\n",
      "1 3 4 5 6 2\n",
      "1 3 4 5 6 2\n",
      "1 2 3 4 5 6\n"
     ]
    }
   ],
   "source": [
    "import math\n",
    "import os\n",
    "import random\n",
    "import re\n",
    "import sys\n",
    "\n",
    "#\n",
    "# Complete the 'insertionSort2' function below.\n",
    "#\n",
    "# The function accepts following parameters:\n",
    "#  1. INTEGER n\n",
    "#  2. INTEGER_ARRAY arr\n",
    "#\n",
    "\n",
    "def insertionSort2(n, arr):\n",
    "    for i in range(1, n):\n",
    "        j = i\n",
    "        while j > 0 and arr[j-1] > arr[j]:\n",
    "            arr[j-1], arr[j] = arr[j], arr[j-1]\n",
    "            j = j - 1\n",
    "        else:\n",
    "            print(*arr, sep=\" \")\n",
    "            \n",
    "    return arr \n",
    "\n",
    "if __name__ == '__main__':\n",
    "    n = int(input().strip())\n",
    "\n",
    "    arr = list(map(int, input().rstrip().split()))\n",
    "\n",
    "    insertionSort2(n, arr)\n"
   ]
  }
 ],
 "metadata": {
  "kernelspec": {
   "display_name": "Python 3 (ipykernel)",
   "language": "python",
   "name": "python3"
  },
  "language_info": {
   "codemirror_mode": {
    "name": "ipython",
    "version": 3
   },
   "file_extension": ".py",
   "mimetype": "text/x-python",
   "name": "python",
   "nbconvert_exporter": "python",
   "pygments_lexer": "ipython3",
   "version": "3.12.4"
  }
 },
 "nbformat": 4,
 "nbformat_minor": 5
}
